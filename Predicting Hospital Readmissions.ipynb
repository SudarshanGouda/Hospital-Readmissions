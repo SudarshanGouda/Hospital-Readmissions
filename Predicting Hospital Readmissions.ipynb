{
 "cells": [
  {
   "cell_type": "markdown",
   "id": "6178083f",
   "metadata": {},
   "source": [
    "# Predicting Hospital Readmissions"
   ]
  },
  {
   "cell_type": "code",
   "execution_count": 136,
   "id": "4ecda49c",
   "metadata": {},
   "outputs": [],
   "source": [
    "import numpy as np\n",
    "import pandas as pd\n",
    "import matplotlib.pyplot as plt\n",
    "import seaborn as sns\n",
    "import warnings\n",
    "warnings.filterwarnings('ignore')\n",
    "pd.set_option('display.max_columns', None)"
   ]
  },
  {
   "cell_type": "markdown",
   "id": "433822b1",
   "metadata": {},
   "source": [
    "## Importing the Data"
   ]
  },
  {
   "cell_type": "code",
   "execution_count": 137,
   "id": "86fff7d0",
   "metadata": {},
   "outputs": [],
   "source": [
    "df_raw= pd.read_csv('hospital_readmissions.csv')"
   ]
  },
  {
   "cell_type": "code",
   "execution_count": 138,
   "id": "d43d1c89",
   "metadata": {},
   "outputs": [],
   "source": [
    "df=df_raw.copy()"
   ]
  },
  {
   "cell_type": "code",
   "execution_count": 139,
   "id": "588968cf",
   "metadata": {},
   "outputs": [
    {
     "data": {
      "text/html": [
       "<div>\n",
       "<style scoped>\n",
       "    .dataframe tbody tr th:only-of-type {\n",
       "        vertical-align: middle;\n",
       "    }\n",
       "\n",
       "    .dataframe tbody tr th {\n",
       "        vertical-align: top;\n",
       "    }\n",
       "\n",
       "    .dataframe thead th {\n",
       "        text-align: right;\n",
       "    }\n",
       "</style>\n",
       "<table border=\"1\" class=\"dataframe\">\n",
       "  <thead>\n",
       "    <tr style=\"text-align: right;\">\n",
       "      <th></th>\n",
       "      <th>age</th>\n",
       "      <th>time_in_hospital</th>\n",
       "      <th>n_lab_procedures</th>\n",
       "      <th>n_procedures</th>\n",
       "      <th>n_medications</th>\n",
       "      <th>n_outpatient</th>\n",
       "      <th>n_inpatient</th>\n",
       "      <th>n_emergency</th>\n",
       "      <th>medical_specialty</th>\n",
       "      <th>diag_1</th>\n",
       "      <th>diag_2</th>\n",
       "      <th>diag_3</th>\n",
       "      <th>glucose_test</th>\n",
       "      <th>A1Ctest</th>\n",
       "      <th>change</th>\n",
       "      <th>diabetes_med</th>\n",
       "      <th>readmitted</th>\n",
       "    </tr>\n",
       "  </thead>\n",
       "  <tbody>\n",
       "    <tr>\n",
       "      <th>0</th>\n",
       "      <td>[70-80)</td>\n",
       "      <td>8</td>\n",
       "      <td>72</td>\n",
       "      <td>1</td>\n",
       "      <td>18</td>\n",
       "      <td>2</td>\n",
       "      <td>0</td>\n",
       "      <td>0</td>\n",
       "      <td>Missing</td>\n",
       "      <td>Circulatory</td>\n",
       "      <td>Respiratory</td>\n",
       "      <td>Other</td>\n",
       "      <td>no</td>\n",
       "      <td>no</td>\n",
       "      <td>no</td>\n",
       "      <td>yes</td>\n",
       "      <td>no</td>\n",
       "    </tr>\n",
       "    <tr>\n",
       "      <th>1</th>\n",
       "      <td>[70-80)</td>\n",
       "      <td>3</td>\n",
       "      <td>34</td>\n",
       "      <td>2</td>\n",
       "      <td>13</td>\n",
       "      <td>0</td>\n",
       "      <td>0</td>\n",
       "      <td>0</td>\n",
       "      <td>Other</td>\n",
       "      <td>Other</td>\n",
       "      <td>Other</td>\n",
       "      <td>Other</td>\n",
       "      <td>no</td>\n",
       "      <td>no</td>\n",
       "      <td>no</td>\n",
       "      <td>yes</td>\n",
       "      <td>no</td>\n",
       "    </tr>\n",
       "    <tr>\n",
       "      <th>2</th>\n",
       "      <td>[50-60)</td>\n",
       "      <td>5</td>\n",
       "      <td>45</td>\n",
       "      <td>0</td>\n",
       "      <td>18</td>\n",
       "      <td>0</td>\n",
       "      <td>0</td>\n",
       "      <td>0</td>\n",
       "      <td>Missing</td>\n",
       "      <td>Circulatory</td>\n",
       "      <td>Circulatory</td>\n",
       "      <td>Circulatory</td>\n",
       "      <td>no</td>\n",
       "      <td>no</td>\n",
       "      <td>yes</td>\n",
       "      <td>yes</td>\n",
       "      <td>yes</td>\n",
       "    </tr>\n",
       "    <tr>\n",
       "      <th>3</th>\n",
       "      <td>[70-80)</td>\n",
       "      <td>2</td>\n",
       "      <td>36</td>\n",
       "      <td>0</td>\n",
       "      <td>12</td>\n",
       "      <td>1</td>\n",
       "      <td>0</td>\n",
       "      <td>0</td>\n",
       "      <td>Missing</td>\n",
       "      <td>Circulatory</td>\n",
       "      <td>Other</td>\n",
       "      <td>Diabetes</td>\n",
       "      <td>no</td>\n",
       "      <td>no</td>\n",
       "      <td>yes</td>\n",
       "      <td>yes</td>\n",
       "      <td>yes</td>\n",
       "    </tr>\n",
       "    <tr>\n",
       "      <th>4</th>\n",
       "      <td>[60-70)</td>\n",
       "      <td>1</td>\n",
       "      <td>42</td>\n",
       "      <td>0</td>\n",
       "      <td>7</td>\n",
       "      <td>0</td>\n",
       "      <td>0</td>\n",
       "      <td>0</td>\n",
       "      <td>InternalMedicine</td>\n",
       "      <td>Other</td>\n",
       "      <td>Circulatory</td>\n",
       "      <td>Respiratory</td>\n",
       "      <td>no</td>\n",
       "      <td>no</td>\n",
       "      <td>no</td>\n",
       "      <td>yes</td>\n",
       "      <td>no</td>\n",
       "    </tr>\n",
       "  </tbody>\n",
       "</table>\n",
       "</div>"
      ],
      "text/plain": [
       "       age  time_in_hospital  n_lab_procedures  n_procedures  n_medications  \\\n",
       "0  [70-80)                 8                72             1             18   \n",
       "1  [70-80)                 3                34             2             13   \n",
       "2  [50-60)                 5                45             0             18   \n",
       "3  [70-80)                 2                36             0             12   \n",
       "4  [60-70)                 1                42             0              7   \n",
       "\n",
       "   n_outpatient  n_inpatient  n_emergency medical_specialty       diag_1  \\\n",
       "0             2            0            0           Missing  Circulatory   \n",
       "1             0            0            0             Other        Other   \n",
       "2             0            0            0           Missing  Circulatory   \n",
       "3             1            0            0           Missing  Circulatory   \n",
       "4             0            0            0  InternalMedicine        Other   \n",
       "\n",
       "        diag_2       diag_3 glucose_test A1Ctest change diabetes_med  \\\n",
       "0  Respiratory        Other           no      no     no          yes   \n",
       "1        Other        Other           no      no     no          yes   \n",
       "2  Circulatory  Circulatory           no      no    yes          yes   \n",
       "3        Other     Diabetes           no      no    yes          yes   \n",
       "4  Circulatory  Respiratory           no      no     no          yes   \n",
       "\n",
       "  readmitted  \n",
       "0         no  \n",
       "1         no  \n",
       "2        yes  \n",
       "3        yes  \n",
       "4         no  "
      ]
     },
     "execution_count": 139,
     "metadata": {},
     "output_type": "execute_result"
    }
   ],
   "source": [
    "df.head()"
   ]
  },
  {
   "cell_type": "markdown",
   "id": "3ce6fb80",
   "metadata": {},
   "source": [
    "## Data Wrangling"
   ]
  },
  {
   "cell_type": "code",
   "execution_count": 140,
   "id": "665fe895",
   "metadata": {},
   "outputs": [
    {
     "name": "stdout",
     "output_type": "stream",
     "text": [
      "<class 'pandas.core.frame.DataFrame'>\n",
      "RangeIndex: 25000 entries, 0 to 24999\n",
      "Data columns (total 17 columns):\n",
      " #   Column             Non-Null Count  Dtype \n",
      "---  ------             --------------  ----- \n",
      " 0   age                25000 non-null  object\n",
      " 1   time_in_hospital   25000 non-null  int64 \n",
      " 2   n_lab_procedures   25000 non-null  int64 \n",
      " 3   n_procedures       25000 non-null  int64 \n",
      " 4   n_medications      25000 non-null  int64 \n",
      " 5   n_outpatient       25000 non-null  int64 \n",
      " 6   n_inpatient        25000 non-null  int64 \n",
      " 7   n_emergency        25000 non-null  int64 \n",
      " 8   medical_specialty  25000 non-null  object\n",
      " 9   diag_1             25000 non-null  object\n",
      " 10  diag_2             25000 non-null  object\n",
      " 11  diag_3             25000 non-null  object\n",
      " 12  glucose_test       25000 non-null  object\n",
      " 13  A1Ctest            25000 non-null  object\n",
      " 14  change             25000 non-null  object\n",
      " 15  diabetes_med       25000 non-null  object\n",
      " 16  readmitted         25000 non-null  object\n",
      "dtypes: int64(7), object(10)\n",
      "memory usage: 3.2+ MB\n"
     ]
    }
   ],
   "source": [
    "df.info()"
   ]
  },
  {
   "cell_type": "code",
   "execution_count": 141,
   "id": "1b6a73d5",
   "metadata": {},
   "outputs": [
    {
     "data": {
      "text/plain": [
       "(25000, 17)"
      ]
     },
     "execution_count": 141,
     "metadata": {},
     "output_type": "execute_result"
    }
   ],
   "source": [
    "df.shape"
   ]
  },
  {
   "cell_type": "code",
   "execution_count": 142,
   "id": "cbe05e41",
   "metadata": {},
   "outputs": [
    {
     "data": {
      "text/plain": [
       "0"
      ]
     },
     "execution_count": 142,
     "metadata": {},
     "output_type": "execute_result"
    }
   ],
   "source": [
    "df.duplicated().sum()"
   ]
  },
  {
   "cell_type": "code",
   "execution_count": 143,
   "id": "95184841",
   "metadata": {
    "scrolled": true
   },
   "outputs": [
    {
     "data": {
      "text/html": [
       "<div>\n",
       "<style scoped>\n",
       "    .dataframe tbody tr th:only-of-type {\n",
       "        vertical-align: middle;\n",
       "    }\n",
       "\n",
       "    .dataframe tbody tr th {\n",
       "        vertical-align: top;\n",
       "    }\n",
       "\n",
       "    .dataframe thead th {\n",
       "        text-align: right;\n",
       "    }\n",
       "</style>\n",
       "<table border=\"1\" class=\"dataframe\">\n",
       "  <thead>\n",
       "    <tr style=\"text-align: right;\">\n",
       "      <th></th>\n",
       "      <th>count</th>\n",
       "      <th>mean</th>\n",
       "      <th>std</th>\n",
       "      <th>min</th>\n",
       "      <th>25%</th>\n",
       "      <th>50%</th>\n",
       "      <th>75%</th>\n",
       "      <th>max</th>\n",
       "    </tr>\n",
       "  </thead>\n",
       "  <tbody>\n",
       "    <tr>\n",
       "      <th>time_in_hospital</th>\n",
       "      <td>25000.0</td>\n",
       "      <td>4.45332</td>\n",
       "      <td>3.001470</td>\n",
       "      <td>1.0</td>\n",
       "      <td>2.0</td>\n",
       "      <td>4.0</td>\n",
       "      <td>6.0</td>\n",
       "      <td>14.0</td>\n",
       "    </tr>\n",
       "    <tr>\n",
       "      <th>n_lab_procedures</th>\n",
       "      <td>25000.0</td>\n",
       "      <td>43.24076</td>\n",
       "      <td>19.818620</td>\n",
       "      <td>1.0</td>\n",
       "      <td>31.0</td>\n",
       "      <td>44.0</td>\n",
       "      <td>57.0</td>\n",
       "      <td>113.0</td>\n",
       "    </tr>\n",
       "    <tr>\n",
       "      <th>n_procedures</th>\n",
       "      <td>25000.0</td>\n",
       "      <td>1.35236</td>\n",
       "      <td>1.715179</td>\n",
       "      <td>0.0</td>\n",
       "      <td>0.0</td>\n",
       "      <td>1.0</td>\n",
       "      <td>2.0</td>\n",
       "      <td>6.0</td>\n",
       "    </tr>\n",
       "    <tr>\n",
       "      <th>n_medications</th>\n",
       "      <td>25000.0</td>\n",
       "      <td>16.25240</td>\n",
       "      <td>8.060532</td>\n",
       "      <td>1.0</td>\n",
       "      <td>11.0</td>\n",
       "      <td>15.0</td>\n",
       "      <td>20.0</td>\n",
       "      <td>79.0</td>\n",
       "    </tr>\n",
       "    <tr>\n",
       "      <th>n_outpatient</th>\n",
       "      <td>25000.0</td>\n",
       "      <td>0.36640</td>\n",
       "      <td>1.195478</td>\n",
       "      <td>0.0</td>\n",
       "      <td>0.0</td>\n",
       "      <td>0.0</td>\n",
       "      <td>0.0</td>\n",
       "      <td>33.0</td>\n",
       "    </tr>\n",
       "    <tr>\n",
       "      <th>n_inpatient</th>\n",
       "      <td>25000.0</td>\n",
       "      <td>0.61596</td>\n",
       "      <td>1.177951</td>\n",
       "      <td>0.0</td>\n",
       "      <td>0.0</td>\n",
       "      <td>0.0</td>\n",
       "      <td>1.0</td>\n",
       "      <td>15.0</td>\n",
       "    </tr>\n",
       "    <tr>\n",
       "      <th>n_emergency</th>\n",
       "      <td>25000.0</td>\n",
       "      <td>0.18660</td>\n",
       "      <td>0.885873</td>\n",
       "      <td>0.0</td>\n",
       "      <td>0.0</td>\n",
       "      <td>0.0</td>\n",
       "      <td>0.0</td>\n",
       "      <td>64.0</td>\n",
       "    </tr>\n",
       "  </tbody>\n",
       "</table>\n",
       "</div>"
      ],
      "text/plain": [
       "                    count      mean        std  min   25%   50%   75%    max\n",
       "time_in_hospital  25000.0   4.45332   3.001470  1.0   2.0   4.0   6.0   14.0\n",
       "n_lab_procedures  25000.0  43.24076  19.818620  1.0  31.0  44.0  57.0  113.0\n",
       "n_procedures      25000.0   1.35236   1.715179  0.0   0.0   1.0   2.0    6.0\n",
       "n_medications     25000.0  16.25240   8.060532  1.0  11.0  15.0  20.0   79.0\n",
       "n_outpatient      25000.0   0.36640   1.195478  0.0   0.0   0.0   0.0   33.0\n",
       "n_inpatient       25000.0   0.61596   1.177951  0.0   0.0   0.0   1.0   15.0\n",
       "n_emergency       25000.0   0.18660   0.885873  0.0   0.0   0.0   0.0   64.0"
      ]
     },
     "execution_count": 143,
     "metadata": {},
     "output_type": "execute_result"
    }
   ],
   "source": [
    "df.describe().T"
   ]
  },
  {
   "cell_type": "code",
   "execution_count": 144,
   "id": "2c4b6ca9",
   "metadata": {},
   "outputs": [
    {
     "data": {
      "text/plain": [
       "age                  0.0\n",
       "time_in_hospital     0.0\n",
       "n_lab_procedures     0.0\n",
       "n_procedures         0.0\n",
       "n_medications        0.0\n",
       "n_outpatient         0.0\n",
       "n_inpatient          0.0\n",
       "n_emergency          0.0\n",
       "medical_specialty    0.0\n",
       "diag_1               0.0\n",
       "diag_2               0.0\n",
       "diag_3               0.0\n",
       "glucose_test         0.0\n",
       "A1Ctest              0.0\n",
       "change               0.0\n",
       "diabetes_med         0.0\n",
       "readmitted           0.0\n",
       "dtype: float64"
      ]
     },
     "execution_count": 144,
     "metadata": {},
     "output_type": "execute_result"
    }
   ],
   "source": [
    "per_null=(df.isna().sum()/df.shape[0])*100\n",
    "per_null"
   ]
  },
  {
   "cell_type": "code",
   "execution_count": 145,
   "id": "b91a33df",
   "metadata": {},
   "outputs": [
    {
     "data": {
      "text/plain": [
       "['time_in_hospital',\n",
       " 'n_lab_procedures',\n",
       " 'n_procedures',\n",
       " 'n_medications',\n",
       " 'n_outpatient',\n",
       " 'n_inpatient',\n",
       " 'n_emergency']"
      ]
     },
     "execution_count": 145,
     "metadata": {},
     "output_type": "execute_result"
    }
   ],
   "source": [
    "numeric = []\n",
    "for label,content in df.items():\n",
    "    if pd.api.types.is_numeric_dtype(content):\n",
    "        numeric.append(label)\n",
    "numeric"
   ]
  },
  {
   "cell_type": "code",
   "execution_count": 146,
   "id": "2f384003",
   "metadata": {},
   "outputs": [
    {
     "name": "stdout",
     "output_type": "stream",
     "text": [
      "Skewness for column time_in_hospital is 1.1089046215797012\n",
      "Skewness for column n_lab_procedures is -0.23867243659162238\n",
      "Skewness for column n_procedures is 1.300571775017207\n",
      "Skewness for column n_medications is 1.316139001531739\n",
      "Skewness for column n_outpatient is 7.302605309338813\n",
      "Skewness for column n_inpatient is 3.2546341152152656\n",
      "Skewness for column n_emergency is 24.530151688037062\n"
     ]
    }
   ],
   "source": [
    "from scipy.stats import skew\n",
    "for col in numeric:\n",
    "    print(f'Skewness for column {col} is {df[col].skew()}')"
   ]
  },
  {
   "cell_type": "markdown",
   "id": "224e981b",
   "metadata": {},
   "source": [
    "## Hypothesis Testing"
   ]
  },
  {
   "cell_type": "code",
   "execution_count": 147,
   "id": "6f0b68d7",
   "metadata": {},
   "outputs": [
    {
     "data": {
      "text/plain": [
       "Index(['age', 'time_in_hospital', 'n_lab_procedures', 'n_procedures',\n",
       "       'n_medications', 'n_outpatient', 'n_inpatient', 'n_emergency',\n",
       "       'medical_specialty', 'diag_1', 'diag_2', 'diag_3', 'glucose_test',\n",
       "       'A1Ctest', 'change', 'diabetes_med', 'readmitted'],\n",
       "      dtype='object')"
      ]
     },
     "execution_count": 147,
     "metadata": {},
     "output_type": "execute_result"
    }
   ],
   "source": [
    "columns=df.columns\n",
    "columns"
   ]
  },
  {
   "cell_type": "code",
   "execution_count": 148,
   "id": "18ed8a0f",
   "metadata": {},
   "outputs": [
    {
     "data": {
      "text/plain": [
       "['age',\n",
       " 'medical_specialty',\n",
       " 'diag_1',\n",
       " 'diag_2',\n",
       " 'diag_3',\n",
       " 'glucose_test',\n",
       " 'A1Ctest',\n",
       " 'change',\n",
       " 'diabetes_med',\n",
       " 'readmitted']"
      ]
     },
     "execution_count": 148,
     "metadata": {},
     "output_type": "execute_result"
    }
   ],
   "source": [
    "not_numeric=[]\n",
    "for label,content in df.items():\n",
    "    if not pd.api.types.is_numeric_dtype(content):\n",
    "        not_numeric.append(label)\n",
    "not_numeric"
   ]
  },
  {
   "cell_type": "code",
   "execution_count": 149,
   "id": "35cc817e",
   "metadata": {
    "scrolled": false
   },
   "outputs": [
    {
     "name": "stdout",
     "output_type": "stream",
     "text": [
      "\u001b[1mage \n",
      "--------------------\u001b[0m\n",
      "\u001b[1m Unique :6\n",
      "--------------------\u001b[0m\n",
      "--------------------\n",
      "[70-80)     6837\n",
      "[60-70)     5913\n",
      "[80-90)     4516\n",
      "[50-60)     4452\n",
      "[40-50)     2532\n",
      "[90-100)     750\n",
      "Name: age, dtype: int64 \n",
      "\n",
      "\u001b[1mmedical_specialty \n",
      "--------------------\u001b[0m\n",
      "\u001b[1m Unique :7\n",
      "--------------------\u001b[0m\n",
      "--------------------\n",
      "Missing                   12382\n",
      "InternalMedicine           3565\n",
      "Other                      2664\n",
      "Emergency/Trauma           1885\n",
      "Family/GeneralPractice     1882\n",
      "Cardiology                 1409\n",
      "Surgery                    1213\n",
      "Name: medical_specialty, dtype: int64 \n",
      "\n",
      "\u001b[1mdiag_1 \n",
      "--------------------\u001b[0m\n",
      "\u001b[1m Unique :8\n",
      "--------------------\u001b[0m\n",
      "--------------------\n",
      "Circulatory        7824\n",
      "Other              6498\n",
      "Respiratory        3680\n",
      "Digestive          2329\n",
      "Diabetes           1747\n",
      "Injury             1666\n",
      "Musculoskeletal    1252\n",
      "Missing               4\n",
      "Name: diag_1, dtype: int64 \n",
      "\n",
      "\u001b[1mdiag_2 \n",
      "--------------------\u001b[0m\n",
      "\u001b[1m Unique :8\n",
      "--------------------\u001b[0m\n",
      "--------------------\n",
      "Other              9056\n",
      "Circulatory        8134\n",
      "Diabetes           2906\n",
      "Respiratory        2872\n",
      "Digestive           973\n",
      "Injury              591\n",
      "Musculoskeletal     426\n",
      "Missing              42\n",
      "Name: diag_2, dtype: int64 \n",
      "\n",
      "\u001b[1mdiag_3 \n",
      "--------------------\u001b[0m\n",
      "\u001b[1m Unique :8\n",
      "--------------------\u001b[0m\n",
      "--------------------\n",
      "Other              9107\n",
      "Circulatory        7686\n",
      "Diabetes           4261\n",
      "Respiratory        1915\n",
      "Digestive           916\n",
      "Injury              464\n",
      "Musculoskeletal     455\n",
      "Missing             196\n",
      "Name: diag_3, dtype: int64 \n",
      "\n",
      "\u001b[1mglucose_test \n",
      "--------------------\u001b[0m\n",
      "\u001b[1m Unique :3\n",
      "--------------------\u001b[0m\n",
      "--------------------\n",
      "no        23625\n",
      "normal      689\n",
      "high        686\n",
      "Name: glucose_test, dtype: int64 \n",
      "\n",
      "\u001b[1mA1Ctest \n",
      "--------------------\u001b[0m\n",
      "\u001b[1m Unique :3\n",
      "--------------------\u001b[0m\n",
      "--------------------\n",
      "no        20938\n",
      "high       2827\n",
      "normal     1235\n",
      "Name: A1Ctest, dtype: int64 \n",
      "\n",
      "\u001b[1mchange \n",
      "--------------------\u001b[0m\n",
      "\u001b[1m Unique :2\n",
      "--------------------\u001b[0m\n",
      "--------------------\n",
      "no     13497\n",
      "yes    11503\n",
      "Name: change, dtype: int64 \n",
      "\n",
      "\u001b[1mdiabetes_med \n",
      "--------------------\u001b[0m\n",
      "\u001b[1m Unique :2\n",
      "--------------------\u001b[0m\n",
      "--------------------\n",
      "yes    19228\n",
      "no      5772\n",
      "Name: diabetes_med, dtype: int64 \n",
      "\n",
      "\u001b[1mreadmitted \n",
      "--------------------\u001b[0m\n",
      "\u001b[1m Unique :2\n",
      "--------------------\u001b[0m\n",
      "--------------------\n",
      "no     13246\n",
      "yes    11754\n",
      "Name: readmitted, dtype: int64 \n",
      "\n"
     ]
    }
   ],
   "source": [
    "for col in not_numeric:\n",
    "    print(f\"\\033[1m{col} \\n{20 * '-'}\\033[0m\")\n",
    "    print(f\"\\033[1m Unique :{df[col].nunique()}\\n{20 * '-'}\\033[0m\")\n",
    "    print(f\"{20 * '-'}\")\n",
    "    print(df[col].value_counts(), '\\n')"
   ]
  },
  {
   "cell_type": "code",
   "execution_count": 150,
   "id": "1476e265",
   "metadata": {},
   "outputs": [
    {
     "data": {
      "text/plain": [
       "['time_in_hospital',\n",
       " 'n_lab_procedures',\n",
       " 'n_procedures',\n",
       " 'n_medications',\n",
       " 'n_outpatient',\n",
       " 'n_inpatient',\n",
       " 'n_emergency']"
      ]
     },
     "execution_count": 150,
     "metadata": {},
     "output_type": "execute_result"
    }
   ],
   "source": [
    "numeric = []\n",
    "for label,content in df.items():\n",
    "    if pd.api.types.is_numeric_dtype(content):\n",
    "        numeric.append(label)\n",
    "numeric"
   ]
  },
  {
   "cell_type": "markdown",
   "id": "3f81bb0b",
   "metadata": {},
   "source": [
    "## ANOVA Test"
   ]
  },
  {
   "cell_type": "code",
   "execution_count": 151,
   "id": "c9ad70b1",
   "metadata": {},
   "outputs": [],
   "source": [
    "from scipy.stats import f_oneway"
   ]
  },
  {
   "cell_type": "code",
   "execution_count": 152,
   "id": "05beb8d3",
   "metadata": {},
   "outputs": [],
   "source": [
    "def perform_Anova_test_regression(data_frame, list_of_column, Target_column):\n",
    "    \n",
    "    '''\n",
    "    Take the inputs from dataframe and conduct the T-Test fror Numeric Variable and Target Numeric Variable.\n",
    "    Returns Data frame with P-value and Decision\n",
    "    \n",
    "        Parameters:\n",
    "                data_frame(Data Frame):Pandas Data Farame\n",
    "                list_of_column: List of Categorical Columns  \n",
    "                Target_column(str): Target Numeric Label (Regression Value) should be in \" \" \n",
    "        \n",
    "        Returns:\n",
    "                PvalueTable(Data Frame): Data frame with P-value and Decision\n",
    "    '''\n",
    "    pvalNum=[]\n",
    "    for col in list_of_column:\n",
    "        # Running the one-way anova test \n",
    "        # Assumption(H0) is that variable are NOT correlated\n",
    "\n",
    "        CategoryGroupLists=data_frame.groupby(Target_column)[col].apply(list)\n",
    "        #print(CategoryGroupLists)\n",
    "\n",
    "        # Performing the ANOVA test\n",
    "        # We accept the Assumption(H0) only when P-Value &gt; 0.05\n",
    "        AnovaResults = f_oneway(*CategoryGroupLists)\n",
    "        pvalNum.append(AnovaResults[1])\n",
    "        #print('P-Value for Anova is: ', AnovaResults[1])\n",
    "        \n",
    "    dict={'P-Value of the Anova_Test':pvalNum}\n",
    "    PvalueTable=pd.DataFrame(dict,index=list_of_column)\n",
    "    PvalueTable['Decision']=PvalueTable['P-Value of the Anova_Test'].apply(lambda row:'Reject Null Hypothesis' \n",
    "                                                                       if row<0.05 \n",
    "                                                                       else 'Fail to reject Null Hypothesis')\n",
    "    return PvalueTable"
   ]
  },
  {
   "cell_type": "code",
   "execution_count": 153,
   "id": "138759d0",
   "metadata": {},
   "outputs": [
    {
     "data": {
      "text/html": [
       "<div>\n",
       "<style scoped>\n",
       "    .dataframe tbody tr th:only-of-type {\n",
       "        vertical-align: middle;\n",
       "    }\n",
       "\n",
       "    .dataframe tbody tr th {\n",
       "        vertical-align: top;\n",
       "    }\n",
       "\n",
       "    .dataframe thead th {\n",
       "        text-align: right;\n",
       "    }\n",
       "</style>\n",
       "<table border=\"1\" class=\"dataframe\">\n",
       "  <thead>\n",
       "    <tr style=\"text-align: right;\">\n",
       "      <th></th>\n",
       "      <th>P-Value of the Anova_Test</th>\n",
       "      <th>Decision</th>\n",
       "    </tr>\n",
       "  </thead>\n",
       "  <tbody>\n",
       "    <tr>\n",
       "      <th>time_in_hospital</th>\n",
       "      <td>8.848708e-12</td>\n",
       "      <td>Reject Null Hypothesis</td>\n",
       "    </tr>\n",
       "    <tr>\n",
       "      <th>n_lab_procedures</th>\n",
       "      <td>1.845898e-07</td>\n",
       "      <td>Reject Null Hypothesis</td>\n",
       "    </tr>\n",
       "    <tr>\n",
       "      <th>n_procedures</th>\n",
       "      <td>2.007615e-12</td>\n",
       "      <td>Reject Null Hypothesis</td>\n",
       "    </tr>\n",
       "    <tr>\n",
       "      <th>n_medications</th>\n",
       "      <td>5.493484e-09</td>\n",
       "      <td>Reject Null Hypothesis</td>\n",
       "    </tr>\n",
       "    <tr>\n",
       "      <th>n_outpatient</th>\n",
       "      <td>1.001795e-51</td>\n",
       "      <td>Reject Null Hypothesis</td>\n",
       "    </tr>\n",
       "    <tr>\n",
       "      <th>n_inpatient</th>\n",
       "      <td>3.948076e-253</td>\n",
       "      <td>Reject Null Hypothesis</td>\n",
       "    </tr>\n",
       "    <tr>\n",
       "      <th>n_emergency</th>\n",
       "      <td>1.115309e-49</td>\n",
       "      <td>Reject Null Hypothesis</td>\n",
       "    </tr>\n",
       "  </tbody>\n",
       "</table>\n",
       "</div>"
      ],
      "text/plain": [
       "                  P-Value of the Anova_Test                Decision\n",
       "time_in_hospital               8.848708e-12  Reject Null Hypothesis\n",
       "n_lab_procedures               1.845898e-07  Reject Null Hypothesis\n",
       "n_procedures                   2.007615e-12  Reject Null Hypothesis\n",
       "n_medications                  5.493484e-09  Reject Null Hypothesis\n",
       "n_outpatient                   1.001795e-51  Reject Null Hypothesis\n",
       "n_inpatient                   3.948076e-253  Reject Null Hypothesis\n",
       "n_emergency                    1.115309e-49  Reject Null Hypothesis"
      ]
     },
     "execution_count": 153,
     "metadata": {},
     "output_type": "execute_result"
    }
   ],
   "source": [
    "perform_Anova_test_regression(df,numeric,'readmitted')"
   ]
  },
  {
   "cell_type": "markdown",
   "id": "efc71522",
   "metadata": {},
   "source": [
    "## Chi-Square Test"
   ]
  },
  {
   "cell_type": "code",
   "execution_count": 154,
   "id": "0bcdf157",
   "metadata": {},
   "outputs": [],
   "source": [
    "from scipy.stats import chi2_contingency"
   ]
  },
  {
   "cell_type": "code",
   "execution_count": 155,
   "id": "d465e793",
   "metadata": {},
   "outputs": [],
   "source": [
    "def perform_ChiSquare_test(data_frame, list_of_column, Target_column):  \n",
    "        \n",
    "    '''\n",
    "    Take the inputs from dataframe and conduct the T-Test fror Numeric Variable and Target Numeric Variable.\n",
    "    Returns Data frame with P-value and Decision\n",
    "    \n",
    "        Parameters:\n",
    "                data_frame(Data Frame):Pandas Data Farame\n",
    "                list_of_column: List of Categorical Columns  \n",
    "                Target_column(str): Target Numeric Label (Regression Value) should be in \" \" \n",
    "        \n",
    "        Returns:\n",
    "                PvalueTable(Data Frame): Data frame with P-value and Decision\n",
    "    '''\n",
    "    pvalCat=[]\n",
    "    \n",
    "    for col in list_of_column:\n",
    "        CrosstabResult=pd.crosstab(index=df[col],columns=df[Target_column])\n",
    "    #print(CrosstabResult)    \n",
    "\n",
    "    # Performing Chi-sq test\n",
    "        ChiSqResult = chi2_contingency(CrosstabResult)\n",
    "        pvalCat.append(ChiSqResult[1])\n",
    "\n",
    "    # P-Value is the Probability of H0 being True\n",
    "    # If P-Value&gt;0.05 then only we Accept the assumption(H0)\\\n",
    "    #print('The P-Value of the ChiSq Test is:', ChiSqResult[1]))\n",
    "\n",
    "    dict={'P-Value of the ChiSq Test':pvalCat}\n",
    "    PvalueTable=pd.DataFrame(dict,index=list_of_column)\n",
    "    PvalueTable['Decision']=PvalueTable['P-Value of the ChiSq Test'].apply(lambda row:'Reject Null Hypothesis' \n",
    "                                                                       if row<0.05 \n",
    "                                                                       else 'Fail to reject Null Hypothesis')\n",
    "    return PvalueTable"
   ]
  },
  {
   "cell_type": "code",
   "execution_count": 156,
   "id": "74a65ee5",
   "metadata": {},
   "outputs": [
    {
     "data": {
      "text/html": [
       "<div>\n",
       "<style scoped>\n",
       "    .dataframe tbody tr th:only-of-type {\n",
       "        vertical-align: middle;\n",
       "    }\n",
       "\n",
       "    .dataframe tbody tr th {\n",
       "        vertical-align: top;\n",
       "    }\n",
       "\n",
       "    .dataframe thead th {\n",
       "        text-align: right;\n",
       "    }\n",
       "</style>\n",
       "<table border=\"1\" class=\"dataframe\">\n",
       "  <thead>\n",
       "    <tr style=\"text-align: right;\">\n",
       "      <th></th>\n",
       "      <th>P-Value of the ChiSq Test</th>\n",
       "      <th>Decision</th>\n",
       "    </tr>\n",
       "  </thead>\n",
       "  <tbody>\n",
       "    <tr>\n",
       "      <th>age</th>\n",
       "      <td>2.452866e-09</td>\n",
       "      <td>Reject Null Hypothesis</td>\n",
       "    </tr>\n",
       "    <tr>\n",
       "      <th>medical_specialty</th>\n",
       "      <td>2.585775e-16</td>\n",
       "      <td>Reject Null Hypothesis</td>\n",
       "    </tr>\n",
       "    <tr>\n",
       "      <th>diag_1</th>\n",
       "      <td>1.368110e-15</td>\n",
       "      <td>Reject Null Hypothesis</td>\n",
       "    </tr>\n",
       "    <tr>\n",
       "      <th>diag_2</th>\n",
       "      <td>2.495156e-05</td>\n",
       "      <td>Reject Null Hypothesis</td>\n",
       "    </tr>\n",
       "    <tr>\n",
       "      <th>diag_3</th>\n",
       "      <td>9.633361e-08</td>\n",
       "      <td>Reject Null Hypothesis</td>\n",
       "    </tr>\n",
       "    <tr>\n",
       "      <th>glucose_test</th>\n",
       "      <td>2.072100e-02</td>\n",
       "      <td>Reject Null Hypothesis</td>\n",
       "    </tr>\n",
       "    <tr>\n",
       "      <th>A1Ctest</th>\n",
       "      <td>6.033471e-04</td>\n",
       "      <td>Reject Null Hypothesis</td>\n",
       "    </tr>\n",
       "    <tr>\n",
       "      <th>change</th>\n",
       "      <td>9.098888e-12</td>\n",
       "      <td>Reject Null Hypothesis</td>\n",
       "    </tr>\n",
       "    <tr>\n",
       "      <th>diabetes_med</th>\n",
       "      <td>1.009671e-22</td>\n",
       "      <td>Reject Null Hypothesis</td>\n",
       "    </tr>\n",
       "    <tr>\n",
       "      <th>readmitted</th>\n",
       "      <td>0.000000e+00</td>\n",
       "      <td>Reject Null Hypothesis</td>\n",
       "    </tr>\n",
       "  </tbody>\n",
       "</table>\n",
       "</div>"
      ],
      "text/plain": [
       "                   P-Value of the ChiSq Test                Decision\n",
       "age                             2.452866e-09  Reject Null Hypothesis\n",
       "medical_specialty               2.585775e-16  Reject Null Hypothesis\n",
       "diag_1                          1.368110e-15  Reject Null Hypothesis\n",
       "diag_2                          2.495156e-05  Reject Null Hypothesis\n",
       "diag_3                          9.633361e-08  Reject Null Hypothesis\n",
       "glucose_test                    2.072100e-02  Reject Null Hypothesis\n",
       "A1Ctest                         6.033471e-04  Reject Null Hypothesis\n",
       "change                          9.098888e-12  Reject Null Hypothesis\n",
       "diabetes_med                    1.009671e-22  Reject Null Hypothesis\n",
       "readmitted                      0.000000e+00  Reject Null Hypothesis"
      ]
     },
     "execution_count": 156,
     "metadata": {},
     "output_type": "execute_result"
    }
   ],
   "source": [
    "perform_ChiSquare_test(df,not_numeric,'readmitted')"
   ]
  },
  {
   "cell_type": "markdown",
   "id": "4ecad5ea",
   "metadata": {},
   "source": [
    "## Multicollinearity Check"
   ]
  },
  {
   "cell_type": "code",
   "execution_count": 157,
   "id": "49f12558",
   "metadata": {},
   "outputs": [
    {
     "data": {
      "text/plain": [
       "<AxesSubplot:>"
      ]
     },
     "execution_count": 157,
     "metadata": {},
     "output_type": "execute_result"
    },
    {
     "data": {
      "image/png": "[encoded data removed]",
      "text/plain": [
       "<Figure size 720x720 with 2 Axes>"
      ]
     },
     "metadata": {
      "needs_background": "light"
     },
     "output_type": "display_data"
    }
   ],
   "source": [
    "plt.figure(figsize=(10,10))\n",
    "sns.heatmap(df.corr(method ='pearson'),annot=True)"
   ]
  },
  {
   "cell_type": "code",
   "execution_count": 158,
   "id": "6defd50e",
   "metadata": {},
   "outputs": [],
   "source": [
    "df_numeric=df[numeric]"
   ]
  },
  {
   "cell_type": "code",
   "execution_count": 159,
   "id": "46fcb732",
   "metadata": {},
   "outputs": [],
   "source": [
    "# Import library for VIF\n",
    "from statsmodels.stats.outliers_influence import variance_inflation_factor\n",
    "\n",
    "def calc_vif(X):\n",
    "    '''\n",
    "    Take the inputs as dataframe and calculate the VIF.\n",
    "    Returns Data frame with VIF value and respective column name.\n",
    "    \n",
    "        Parameters:\n",
    "                X(Data Frame):Pandas Data Farame\n",
    "        \n",
    "        Returns:\n",
    "                vif(Data Frame): Data frame with VIF value and respective column name.\n",
    "    '''\n",
    "    # Calculating VIF\n",
    "    vif = pd.DataFrame()\n",
    "    vif[\"variables\"] = X.columns\n",
    "    vif[\"VIF\"] = [variance_inflation_factor(X.values, i) for i in range(X.shape[1])]\n",
    "\n",
    "    return(vif.sort_values(by='VIF'))"
   ]
  },
  {
   "cell_type": "code",
   "execution_count": 160,
   "id": "72049cca",
   "metadata": {},
   "outputs": [
    {
     "data": {
      "text/html": [
       "<div>\n",
       "<style scoped>\n",
       "    .dataframe tbody tr th:only-of-type {\n",
       "        vertical-align: middle;\n",
       "    }\n",
       "\n",
       "    .dataframe tbody tr th {\n",
       "        vertical-align: top;\n",
       "    }\n",
       "\n",
       "    .dataframe thead th {\n",
       "        text-align: right;\n",
       "    }\n",
       "</style>\n",
       "<table border=\"1\" class=\"dataframe\">\n",
       "  <thead>\n",
       "    <tr style=\"text-align: right;\">\n",
       "      <th></th>\n",
       "      <th>variables</th>\n",
       "      <th>VIF</th>\n",
       "    </tr>\n",
       "  </thead>\n",
       "  <tbody>\n",
       "    <tr>\n",
       "      <th>6</th>\n",
       "      <td>n_emergency</td>\n",
       "      <td>1.103072</td>\n",
       "    </tr>\n",
       "    <tr>\n",
       "      <th>4</th>\n",
       "      <td>n_outpatient</td>\n",
       "      <td>1.116581</td>\n",
       "    </tr>\n",
       "    <tr>\n",
       "      <th>5</th>\n",
       "      <td>n_inpatient</td>\n",
       "      <td>1.362017</td>\n",
       "    </tr>\n",
       "    <tr>\n",
       "      <th>2</th>\n",
       "      <td>n_procedures</td>\n",
       "      <td>1.901006</td>\n",
       "    </tr>\n",
       "    <tr>\n",
       "      <th>0</th>\n",
       "      <td>time_in_hospital</td>\n",
       "      <td>4.252198</td>\n",
       "    </tr>\n",
       "    <tr>\n",
       "      <th>1</th>\n",
       "      <td>n_lab_procedures</td>\n",
       "      <td>4.574212</td>\n",
       "    </tr>\n",
       "    <tr>\n",
       "      <th>3</th>\n",
       "      <td>n_medications</td>\n",
       "      <td>6.278192</td>\n",
       "    </tr>\n",
       "  </tbody>\n",
       "</table>\n",
       "</div>"
      ],
      "text/plain": [
       "          variables       VIF\n",
       "6       n_emergency  1.103072\n",
       "4      n_outpatient  1.116581\n",
       "5       n_inpatient  1.362017\n",
       "2      n_procedures  1.901006\n",
       "0  time_in_hospital  4.252198\n",
       "1  n_lab_procedures  4.574212\n",
       "3     n_medications  6.278192"
      ]
     },
     "execution_count": 160,
     "metadata": {},
     "output_type": "execute_result"
    }
   ],
   "source": [
    "calc_vif(df_numeric)"
   ]
  },
  {
   "cell_type": "code",
   "execution_count": 161,
   "id": "ed079835",
   "metadata": {},
   "outputs": [],
   "source": [
    "def check_muticolinearity(dataframe,threshold = 0.9):\n",
    "    \n",
    "    '''\n",
    "    Take the inputs as dataframe and threshold of correlation.\n",
    "    Print the number of column and respective column names to be droped.\n",
    "    \n",
    "        Parameters:\n",
    "                dataframe(Data Frame):Pandas Data Farame\n",
    "        \n",
    "        Returns:\n",
    "                Print the number of column and respective column names to be droped.\n",
    "    \n",
    "    '''\n",
    "    corr_matrix =dataframe.corr().abs()\n",
    "    upper = corr_matrix.where(np.triu(np.ones(corr_matrix.shape), k=1).astype(np.bool))\n",
    "    to_drop = [column for column in upper.columns if any(upper[column] > threshold)]\n",
    "    if len(to_drop)>1:\n",
    "        print(f'There are {len(to_drop)} columns to remove. And they are {to_drop}')\n",
    "    else:\n",
    "         print(f'There are {len(to_drop)} columns to remove.') "
   ]
  },
  {
   "cell_type": "code",
   "execution_count": 162,
   "id": "ffae445c",
   "metadata": {},
   "outputs": [
    {
     "name": "stdout",
     "output_type": "stream",
     "text": [
      "There are 0 columns to remove.\n"
     ]
    }
   ],
   "source": [
    "check_muticolinearity(df_numeric)"
   ]
  },
  {
   "cell_type": "markdown",
   "id": "8e1824e6",
   "metadata": {},
   "source": [
    "## EDA"
   ]
  },
  {
   "cell_type": "code",
   "execution_count": 163,
   "id": "90d77ce0",
   "metadata": {},
   "outputs": [
    {
     "data": {
      "text/plain": [
       "['time_in_hospital',\n",
       " 'n_lab_procedures',\n",
       " 'n_procedures',\n",
       " 'n_medications',\n",
       " 'n_outpatient',\n",
       " 'n_inpatient',\n",
       " 'n_emergency']"
      ]
     },
     "execution_count": 163,
     "metadata": {},
     "output_type": "execute_result"
    }
   ],
   "source": [
    "numeric_new=[]\n",
    "for label,content in df_raw.items():\n",
    "    if pd.api.types.is_numeric_dtype(content):\n",
    "        numeric_new.append(label)\n",
    "numeric_new"
   ]
  },
  {
   "cell_type": "code",
   "execution_count": 164,
   "id": "e98384f1",
   "metadata": {},
   "outputs": [],
   "source": [
    "numericdf=df_raw[numeric_new]"
   ]
  },
  {
   "cell_type": "code",
   "execution_count": 165,
   "id": "a9a3da93",
   "metadata": {},
   "outputs": [],
   "source": [
    "#sns.pairplot(df,hue='readmitted')"
   ]
  },
  {
   "cell_type": "code",
   "execution_count": 166,
   "id": "34a152f9",
   "metadata": {
    "scrolled": false
   },
   "outputs": [
    {
     "data": {
      "image/png": "[encoded data removed]",
      "text/plain": [
       "<Figure size 432x288 with 1 Axes>"
      ]
     },
     "metadata": {
      "needs_background": "light"
     },
     "output_type": "display_data"
    },
    {
     "data": {
      "image/png": "[encoded data removed]",
      "text/plain": [
       "<Figure size 432x288 with 1 Axes>"
      ]
     },
     "metadata": {
      "needs_background": "light"
     },
     "output_type": "display_data"
    },
    {
     "data": {
      "image/png": "[encoded data removed]",
      "text/plain": [
       "<Figure size 432x288 with 1 Axes>"
      ]
     },
     "metadata": {
      "needs_background": "light"
     },
     "output_type": "display_data"
    },
    {
     "data": {
      "image/png": "[encoded data removed]",
      "text/plain": [
       "<Figure size 432x288 with 1 Axes>"
      ]
     },
     "metadata": {
      "needs_background": "light"
     },
     "output_type": "display_data"
    },
    {
     "data": {
      "image/png": "[encoded data removed]",
      "text/plain": [
       "<Figure size 432x288 with 1 Axes>"
      ]
     },
     "metadata": {
      "needs_background": "light"
     },
     "output_type": "display_data"
    },
    {
     "data": {
      "image/png": "[encoded data removed]",
      "text/plain": [
       "<Figure size 432x288 with 1 Axes>"
      ]
     },
     "metadata": {
      "needs_background": "light"
     },
     "output_type": "display_data"
    },
    {
     "data": {
      "image/png": "[encoded data removed]",
      "text/plain": [
       "<Figure size 432x288 with 1 Axes>"
      ]
     },
     "metadata": {
      "needs_background": "light"
     },
     "output_type": "display_data"
    }
   ],
   "source": [
    "for i in numericdf.columns:\n",
    "    sns.distplot(numericdf[i])\n",
    "    plt.show()"
   ]
  },
  {
   "cell_type": "code",
   "execution_count": 167,
   "id": "e57b0cb9",
   "metadata": {},
   "outputs": [
    {
     "data": {
      "text/plain": [
       "['age',\n",
       " 'medical_specialty',\n",
       " 'diag_1',\n",
       " 'diag_2',\n",
       " 'diag_3',\n",
       " 'glucose_test',\n",
       " 'A1Ctest',\n",
       " 'change',\n",
       " 'diabetes_med',\n",
       " 'readmitted']"
      ]
     },
     "execution_count": 167,
     "metadata": {},
     "output_type": "execute_result"
    }
   ],
   "source": [
    "not_numeric_new=[]\n",
    "for label,content in df_raw.items():\n",
    "    if not pd.api.types.is_numeric_dtype(content):\n",
    "        not_numeric_new.append(label)\n",
    "not_numeric_new"
   ]
  },
  {
   "cell_type": "code",
   "execution_count": 168,
   "id": "354f4440",
   "metadata": {},
   "outputs": [],
   "source": [
    "nonnumericdf=df_raw[not_numeric_new]"
   ]
  },
  {
   "cell_type": "code",
   "execution_count": 169,
   "id": "65ea992a",
   "metadata": {
    "scrolled": false
   },
   "outputs": [
    {
     "data": {
      "image/png": "[encoded data removed]",
      "text/plain": [
       "<Figure size 576x288 with 1 Axes>"
      ]
     },
     "metadata": {
      "needs_background": "light"
     },
     "output_type": "display_data"
    },
    {
     "data": {
      "image/png": "[encoded data removed]",
      "text/plain": [
       "<Figure size 576x288 with 1 Axes>"
      ]
     },
     "metadata": {
      "needs_background": "light"
     },
     "output_type": "display_data"
    },
    {
     "data": {
      "image/png": "[encoded data removed]",
      "text/plain": [
       "<Figure size 576x288 with 1 Axes>"
      ]
     },
     "metadata": {
      "needs_background": "light"
     },
     "output_type": "display_data"
    },
    {
     "data": {
      "image/png": "[encoded data removed]",
      "text/plain": [
       "<Figure size 576x288 with 1 Axes>"
      ]
     },
     "metadata": {
      "needs_background": "light"
     },
     "output_type": "display_data"
    },
    {
     "data": {
      "image/png": "[encoded data removed]",
      "text/plain": [
       "<Figure size 576x288 with 1 Axes>"
      ]
     },
     "metadata": {
      "needs_background": "light"
     },
     "output_type": "display_data"
    },
    {
     "data": {
      "image/png": "[encoded data removed]",
      "text/plain": [
       "<Figure size 576x288 with 1 Axes>"
      ]
     },
     "metadata": {
      "needs_background": "light"
     },
     "output_type": "display_data"
    },
    {
     "data": {
      "image/png": "[encoded data removed]",
      "text/plain": [
       "<Figure size 576x288 with 1 Axes>"
      ]
     },
     "metadata": {
      "needs_background": "light"
     },
     "output_type": "display_data"
    },
    {
     "data": {
      "image/png": "[encoded data removed]",
      "text/plain": [
       "<Figure size 576x288 with 1 Axes>"
      ]
     },
     "metadata": {
      "needs_background": "light"
     },
     "output_type": "display_data"
    },
    {
     "data": {
      "image/png": "[encoded data removed]",
      "text/plain": [
       "<Figure size 576x288 with 1 Axes>"
      ]
     },
     "metadata": {
      "needs_background": "light"
     },
     "output_type": "display_data"
    },
    {
     "data": {
      "image/png": "[encoded data removed]",
      "text/plain": [
       "<Figure size 576x288 with 1 Axes>"
      ]
     },
     "metadata": {
      "needs_background": "light"
     },
     "output_type": "display_data"
    }
   ],
   "source": [
    "for col in not_numeric_new:\n",
    "    plt.figure(figsize=(8,4))\n",
    "    sns.countplot(x=nonnumericdf[col], data=nonnumericdf)\n",
    "    plt.title(col)\n",
    "    plt.xticks(rotation=45)\n",
    "    plt.show()"
   ]
  },
  {
   "cell_type": "code",
   "execution_count": 170,
   "id": "1384b577",
   "metadata": {
    "scrolled": false
   },
   "outputs": [
    {
     "data": {
      "image/png": "[encoded data removed]",
      "text/plain": [
       "<Figure size 576x288 with 1 Axes>"
      ]
     },
     "metadata": {
      "needs_background": "light"
     },
     "output_type": "display_data"
    },
    {
     "data": {
      "image/png": "[encoded data removed]",
      "text/plain": [
       "<Figure size 576x288 with 1 Axes>"
      ]
     },
     "metadata": {
      "needs_background": "light"
     },
     "output_type": "display_data"
    },
    {
     "data": {
      "image/png": "[encoded data removed]",
      "text/plain": [
       "<Figure size 576x288 with 1 Axes>"
      ]
     },
     "metadata": {
      "needs_background": "light"
     },
     "output_type": "display_data"
    },
    {
     "data": {
      "image/png": "[encoded data removed]",
      "text/plain": [
       "<Figure size 576x288 with 1 Axes>"
      ]
     },
     "metadata": {
      "needs_background": "light"
     },
     "output_type": "display_data"
    },
    {
     "data": {
      "image/png": "[encoded data removed]",
      "text/plain": [
       "<Figure size 576x288 with 1 Axes>"
      ]
     },
     "metadata": {
      "needs_background": "light"
     },
     "output_type": "display_data"
    },
    {
     "data": {
      "image/png": "[encoded data removed]",
      "text/plain": [
       "<Figure size 576x288 with 1 Axes>"
      ]
     },
     "metadata": {
      "needs_background": "light"
     },
     "output_type": "display_data"
    },
    {
     "data": {
      "image/png": "[encoded data removed]",
      "text/plain": [
       "<Figure size 576x288 with 1 Axes>"
      ]
     },
     "metadata": {
      "needs_background": "light"
     },
     "output_type": "display_data"
    },
    {
     "data": {
      "image/png": "[encoded data removed]",
      "text/plain": [
       "<Figure size 576x288 with 1 Axes>"
      ]
     },
     "metadata": {
      "needs_background": "light"
     },
     "output_type": "display_data"
    },
    {
     "data": {
      "image/png": "[encoded data removed]",
      "text/plain": [
       "<Figure size 576x288 with 1 Axes>"
      ]
     },
     "metadata": {
      "needs_background": "light"
     },
     "output_type": "display_data"
    }
   ],
   "source": [
    "for col in not_numeric_new[:-1]:\n",
    "    plt.figure(figsize=(8,4))\n",
    "    sns.countplot(x=nonnumericdf[col], data=nonnumericdf,hue='readmitted')\n",
    "    plt.title(col)\n",
    "    plt.xticks(rotation=45)\n",
    "    plt.show()"
   ]
  },
  {
   "cell_type": "code",
   "execution_count": 171,
   "id": "5f002b54",
   "metadata": {},
   "outputs": [],
   "source": [
    "from scipy import stats"
   ]
  },
  {
   "cell_type": "code",
   "execution_count": 172,
   "id": "7bac9434",
   "metadata": {},
   "outputs": [],
   "source": [
    "def probaplot(col):\n",
    "    plt.figure(figsize=(10,5))\n",
    "    plt.subplot(1,2,1)\n",
    "    stats.probplot(df[col],dist='norm',plot=plt)\n",
    "    \n",
    "    plt.subplot(1,2,2)\n",
    "    sns.boxplot(df[col],color='red')\n",
    "    \n",
    "    plt.show()"
   ]
  },
  {
   "cell_type": "code",
   "execution_count": 173,
   "id": "d8b76b85",
   "metadata": {
    "scrolled": false
   },
   "outputs": [
    {
     "name": "stdout",
     "output_type": "stream",
     "text": [
      "Prob Plot of time_in_hospital\n"
     ]
    },
    {
     "data": {
      "image/png": "[encoded data removed]",
      "text/plain": [
       "<Figure size 720x360 with 2 Axes>"
      ]
     },
     "metadata": {
      "needs_background": "light"
     },
     "output_type": "display_data"
    },
    {
     "name": "stdout",
     "output_type": "stream",
     "text": [
      "____________________________________________________________________________________________________ \n",
      "\n",
      "Prob Plot of n_lab_procedures\n"
     ]
    },
    {
     "data": {
      "image/png": "[encoded data removed]",
      "text/plain": [
       "<Figure size 720x360 with 2 Axes>"
      ]
     },
     "metadata": {
      "needs_background": "light"
     },
     "output_type": "display_data"
    },
    {
     "name": "stdout",
     "output_type": "stream",
     "text": [
      "____________________________________________________________________________________________________ \n",
      "\n",
      "Prob Plot of n_procedures\n"
     ]
    },
    {
     "data": {
      "image/png": "[encoded data removed]",
      "text/plain": [
       "<Figure size 720x360 with 2 Axes>"
      ]
     },
     "metadata": {
      "needs_background": "light"
     },
     "output_type": "display_data"
    },
    {
     "name": "stdout",
     "output_type": "stream",
     "text": [
      "____________________________________________________________________________________________________ \n",
      "\n",
      "Prob Plot of n_medications\n"
     ]
    },
    {
     "data": {
      "image/png": "[encoded data removed]",
      "text/plain": [
       "<Figure size 720x360 with 2 Axes>"
      ]
     },
     "metadata": {
      "needs_background": "light"
     },
     "output_type": "display_data"
    },
    {
     "name": "stdout",
     "output_type": "stream",
     "text": [
      "____________________________________________________________________________________________________ \n",
      "\n",
      "Prob Plot of n_outpatient\n"
     ]
    },
    {
     "data": {
      "image/png": "[encoded data removed]",
      "text/plain": [
       "<Figure size 720x360 with 2 Axes>"
      ]
     },
     "metadata": {
      "needs_background": "light"
     },
     "output_type": "display_data"
    },
    {
     "name": "stdout",
     "output_type": "stream",
     "text": [
      "____________________________________________________________________________________________________ \n",
      "\n",
      "Prob Plot of n_inpatient\n"
     ]
    },
    {
     "data": {
      "image/png": "[encoded data removed]",
      "text/plain": [
       "<Figure size 720x360 with 2 Axes>"
      ]
     },
     "metadata": {
      "needs_background": "light"
     },
     "output_type": "display_data"
    },
    {
     "name": "stdout",
     "output_type": "stream",
     "text": [
      "____________________________________________________________________________________________________ \n",
      "\n",
      "Prob Plot of n_emergency\n"
     ]
    },
    {
     "data": {
      "image/png": "[encoded data removed]",
      "text/plain": [
       "<Figure size 720x360 with 2 Axes>"
      ]
     },
     "metadata": {
      "needs_background": "light"
     },
     "output_type": "display_data"
    },
    {
     "name": "stdout",
     "output_type": "stream",
     "text": [
      "____________________________________________________________________________________________________ \n",
      "\n"
     ]
    }
   ],
   "source": [
    "for i in numericdf.columns:\n",
    "    print(f'Prob Plot of {i}')\n",
    "    probaplot(i)\n",
    "    print('_'*100,'\\n')\n",
    "    plt.show()"
   ]
  },
  {
   "cell_type": "markdown",
   "id": "941edb59",
   "metadata": {},
   "source": [
    "## Encoding"
   ]
  },
  {
   "cell_type": "code",
   "execution_count": 174,
   "id": "5003d2be",
   "metadata": {},
   "outputs": [
    {
     "data": {
      "text/plain": [
       "Index(['age', 'time_in_hospital', 'n_lab_procedures', 'n_procedures',\n",
       "       'n_medications', 'n_outpatient', 'n_inpatient', 'n_emergency',\n",
       "       'medical_specialty', 'diag_1', 'diag_2', 'diag_3', 'glucose_test',\n",
       "       'A1Ctest', 'change', 'diabetes_med', 'readmitted'],\n",
       "      dtype='object')"
      ]
     },
     "execution_count": 174,
     "metadata": {},
     "output_type": "execute_result"
    }
   ],
   "source": [
    "df.columns"
   ]
  },
  {
   "cell_type": "code",
   "execution_count": 175,
   "id": "4cdd56e1",
   "metadata": {},
   "outputs": [
    {
     "data": {
      "text/plain": [
       "['age',\n",
       " 'medical_specialty',\n",
       " 'diag_1',\n",
       " 'diag_2',\n",
       " 'diag_3',\n",
       " 'glucose_test',\n",
       " 'A1Ctest',\n",
       " 'change',\n",
       " 'diabetes_med',\n",
       " 'readmitted']"
      ]
     },
     "execution_count": 175,
     "metadata": {},
     "output_type": "execute_result"
    }
   ],
   "source": [
    "not_numeric=[]\n",
    "for label,content in df.items():\n",
    "    if not pd.api.types.is_numeric_dtype(content):\n",
    "        not_numeric.append(label)\n",
    "not_numeric"
   ]
  },
  {
   "cell_type": "code",
   "execution_count": 176,
   "id": "dbcac043",
   "metadata": {
    "scrolled": false
   },
   "outputs": [
    {
     "name": "stdout",
     "output_type": "stream",
     "text": [
      "\u001b[1mage \n",
      "--------------------\u001b[0m\n",
      "\u001b[1m Unique :6\n",
      "--------------------\u001b[0m\n",
      "--------------------\n",
      "[70-80)     6837\n",
      "[60-70)     5913\n",
      "[80-90)     4516\n",
      "[50-60)     4452\n",
      "[40-50)     2532\n",
      "[90-100)     750\n",
      "Name: age, dtype: int64 \n",
      "\n",
      "\u001b[1mmedical_specialty \n",
      "--------------------\u001b[0m\n",
      "\u001b[1m Unique :7\n",
      "--------------------\u001b[0m\n",
      "--------------------\n",
      "Missing                   12382\n",
      "InternalMedicine           3565\n",
      "Other                      2664\n",
      "Emergency/Trauma           1885\n",
      "Family/GeneralPractice     1882\n",
      "Cardiology                 1409\n",
      "Surgery                    1213\n",
      "Name: medical_specialty, dtype: int64 \n",
      "\n",
      "\u001b[1mdiag_1 \n",
      "--------------------\u001b[0m\n",
      "\u001b[1m Unique :8\n",
      "--------------------\u001b[0m\n",
      "--------------------\n",
      "Circulatory        7824\n",
      "Other              6498\n",
      "Respiratory        3680\n",
      "Digestive          2329\n",
      "Diabetes           1747\n",
      "Injury             1666\n",
      "Musculoskeletal    1252\n",
      "Missing               4\n",
      "Name: diag_1, dtype: int64 \n",
      "\n",
      "\u001b[1mdiag_2 \n",
      "--------------------\u001b[0m\n",
      "\u001b[1m Unique :8\n",
      "--------------------\u001b[0m\n",
      "--------------------\n",
      "Other              9056\n",
      "Circulatory        8134\n",
      "Diabetes           2906\n",
      "Respiratory        2872\n",
      "Digestive           973\n",
      "Injury              591\n",
      "Musculoskeletal     426\n",
      "Missing              42\n",
      "Name: diag_2, dtype: int64 \n",
      "\n",
      "\u001b[1mdiag_3 \n",
      "--------------------\u001b[0m\n",
      "\u001b[1m Unique :8\n",
      "--------------------\u001b[0m\n",
      "--------------------\n",
      "Other              9107\n",
      "Circulatory        7686\n",
      "Diabetes           4261\n",
      "Respiratory        1915\n",
      "Digestive           916\n",
      "Injury              464\n",
      "Musculoskeletal     455\n",
      "Missing             196\n",
      "Name: diag_3, dtype: int64 \n",
      "\n",
      "\u001b[1mglucose_test \n",
      "--------------------\u001b[0m\n",
      "\u001b[1m Unique :3\n",
      "--------------------\u001b[0m\n",
      "--------------------\n",
      "no        23625\n",
      "normal      689\n",
      "high        686\n",
      "Name: glucose_test, dtype: int64 \n",
      "\n",
      "\u001b[1mA1Ctest \n",
      "--------------------\u001b[0m\n",
      "\u001b[1m Unique :3\n",
      "--------------------\u001b[0m\n",
      "--------------------\n",
      "no        20938\n",
      "high       2827\n",
      "normal     1235\n",
      "Name: A1Ctest, dtype: int64 \n",
      "\n",
      "\u001b[1mchange \n",
      "--------------------\u001b[0m\n",
      "\u001b[1m Unique :2\n",
      "--------------------\u001b[0m\n",
      "--------------------\n",
      "no     13497\n",
      "yes    11503\n",
      "Name: change, dtype: int64 \n",
      "\n",
      "\u001b[1mdiabetes_med \n",
      "--------------------\u001b[0m\n",
      "\u001b[1m Unique :2\n",
      "--------------------\u001b[0m\n",
      "--------------------\n",
      "yes    19228\n",
      "no      5772\n",
      "Name: diabetes_med, dtype: int64 \n",
      "\n",
      "\u001b[1mreadmitted \n",
      "--------------------\u001b[0m\n",
      "\u001b[1m Unique :2\n",
      "--------------------\u001b[0m\n",
      "--------------------\n",
      "no     13246\n",
      "yes    11754\n",
      "Name: readmitted, dtype: int64 \n",
      "\n"
     ]
    }
   ],
   "source": [
    "for col in not_numeric:\n",
    "    print(f\"\\033[1m{col} \\n{20 * '-'}\\033[0m\")\n",
    "    print(f\"\\033[1m Unique :{df[col].nunique()}\\n{20 * '-'}\\033[0m\")\n",
    "    print(f\"{20 * '-'}\")\n",
    "    print(df[col].value_counts(), '\\n')"
   ]
  },
  {
   "cell_type": "code",
   "execution_count": 177,
   "id": "1679b553",
   "metadata": {},
   "outputs": [],
   "source": [
    "df['medical_specialty'] = df['medical_specialty'].apply(lambda x: 'No' if x == 'Missing' else x)\n",
    "df['diag_1'] = df['diag_1'].apply(lambda x: 'No' if x == 'Missing' else x)\n",
    "df['diag_2'] = df['diag_2'].apply(lambda x: 'No' if x == 'Missing' else x)\n",
    "df['diag_3'] = df['diag_3'].apply(lambda x: 'No' if x == 'Missing' else x)"
   ]
  },
  {
   "cell_type": "code",
   "execution_count": 178,
   "id": "fb76aafe",
   "metadata": {
    "scrolled": true
   },
   "outputs": [
    {
     "data": {
      "text/plain": [
       "array(['No', 'Other', 'InternalMedicine', 'Family/GeneralPractice',\n",
       "       'Cardiology', 'Surgery', 'Emergency/Trauma'], dtype=object)"
      ]
     },
     "execution_count": 178,
     "metadata": {},
     "output_type": "execute_result"
    }
   ],
   "source": [
    "df['medical_specialty'].unique()"
   ]
  },
  {
   "cell_type": "code",
   "execution_count": 179,
   "id": "b6f624e5",
   "metadata": {},
   "outputs": [
    {
     "data": {
      "text/plain": [
       "array(['Circulatory', 'Other', 'Injury', 'Digestive', 'Respiratory',\n",
       "       'Diabetes', 'Musculoskeletal', 'No'], dtype=object)"
      ]
     },
     "execution_count": 179,
     "metadata": {},
     "output_type": "execute_result"
    }
   ],
   "source": [
    "df['diag_1'].unique()"
   ]
  },
  {
   "cell_type": "code",
   "execution_count": 180,
   "id": "2219c72b",
   "metadata": {},
   "outputs": [
    {
     "data": {
      "text/plain": [
       "array(['Respiratory', 'Other', 'Circulatory', 'Injury', 'Diabetes',\n",
       "       'Digestive', 'Musculoskeletal', 'No'], dtype=object)"
      ]
     },
     "execution_count": 180,
     "metadata": {},
     "output_type": "execute_result"
    }
   ],
   "source": [
    "df['diag_2'].unique()"
   ]
  },
  {
   "cell_type": "code",
   "execution_count": 181,
   "id": "0eb00b50",
   "metadata": {},
   "outputs": [
    {
     "data": {
      "text/plain": [
       "array(['Other', 'Circulatory', 'Diabetes', 'Respiratory', 'Injury',\n",
       "       'Musculoskeletal', 'Digestive', 'No'], dtype=object)"
      ]
     },
     "execution_count": 181,
     "metadata": {},
     "output_type": "execute_result"
    }
   ],
   "source": [
    "df['diag_3'].unique()"
   ]
  },
  {
   "cell_type": "markdown",
   "id": "0db2babc",
   "metadata": {},
   "source": [
    "### Label Encoding"
   ]
  },
  {
   "cell_type": "code",
   "execution_count": 182,
   "id": "acfbdba6",
   "metadata": {},
   "outputs": [],
   "source": [
    "def labelEncoding(col,encoder):\n",
    "    df[col]=encoder.fit_transform(df[col])\n",
    "    le_name_mapping = dict(zip(le.classes_, le.transform(le.classes_)))\n",
    "    print([le_name_mapping])"
   ]
  },
  {
   "cell_type": "code",
   "execution_count": 183,
   "id": "7fd824c0",
   "metadata": {},
   "outputs": [],
   "source": [
    "from sklearn.preprocessing import LabelEncoder\n",
    "le=LabelEncoder()"
   ]
  },
  {
   "cell_type": "code",
   "execution_count": 184,
   "id": "4598bb1f",
   "metadata": {},
   "outputs": [],
   "source": [
    "list_label=['change','diabetes_med','readmitted']"
   ]
  },
  {
   "cell_type": "code",
   "execution_count": 185,
   "id": "36012c33",
   "metadata": {},
   "outputs": [
    {
     "name": "stdout",
     "output_type": "stream",
     "text": [
      "[{'no': 0, 'yes': 1}]\n",
      "[{'no': 0, 'yes': 1}]\n",
      "[{'no': 0, 'yes': 1}]\n"
     ]
    }
   ],
   "source": [
    "for col in list_label:\n",
    "    labelEncoding(col,le)"
   ]
  },
  {
   "cell_type": "markdown",
   "id": "d44cc50b",
   "metadata": {},
   "source": [
    "### Ordinal Encoding"
   ]
  },
  {
   "cell_type": "code",
   "execution_count": 186,
   "id": "e63feb6f",
   "metadata": {},
   "outputs": [
    {
     "data": {
      "text/plain": [
       "array(['[70-80)', '[50-60)', '[60-70)', '[40-50)', '[80-90)', '[90-100)'],\n",
       "      dtype=object)"
      ]
     },
     "execution_count": 186,
     "metadata": {},
     "output_type": "execute_result"
    }
   ],
   "source": [
    "df['age'].unique()"
   ]
  },
  {
   "cell_type": "code",
   "execution_count": 187,
   "id": "4a526243",
   "metadata": {},
   "outputs": [],
   "source": [
    "df['age']=df['age'].map({'[70-80)':4, '[50-60)':2, '[60-70)':3, '[40-50)':1, '[80-90)':5, '[90-100)':6})"
   ]
  },
  {
   "cell_type": "code",
   "execution_count": 188,
   "id": "a66c0a49",
   "metadata": {
    "scrolled": true
   },
   "outputs": [
    {
     "data": {
      "text/plain": [
       "array([4, 2, 3, 1, 5, 6], dtype=int64)"
      ]
     },
     "execution_count": 188,
     "metadata": {},
     "output_type": "execute_result"
    }
   ],
   "source": [
    "df['age'].unique()"
   ]
  },
  {
   "cell_type": "code",
   "execution_count": 189,
   "id": "0e2bbe8a",
   "metadata": {},
   "outputs": [
    {
     "data": {
      "text/plain": [
       "array(['no', 'normal', 'high'], dtype=object)"
      ]
     },
     "execution_count": 189,
     "metadata": {},
     "output_type": "execute_result"
    }
   ],
   "source": [
    "df['glucose_test'].unique()"
   ]
  },
  {
   "cell_type": "code",
   "execution_count": 190,
   "id": "8915e7e4",
   "metadata": {},
   "outputs": [],
   "source": [
    "df['glucose_test']=df['glucose_test'].map({'no':0, 'normal':1, 'high':2})"
   ]
  },
  {
   "cell_type": "code",
   "execution_count": 191,
   "id": "a01a680c",
   "metadata": {
    "scrolled": true
   },
   "outputs": [
    {
     "data": {
      "text/plain": [
       "array(['no', 'normal', 'high'], dtype=object)"
      ]
     },
     "execution_count": 191,
     "metadata": {},
     "output_type": "execute_result"
    }
   ],
   "source": [
    "df['A1Ctest'].unique()"
   ]
  },
  {
   "cell_type": "code",
   "execution_count": 192,
   "id": "71c58fb3",
   "metadata": {},
   "outputs": [],
   "source": [
    "df['A1Ctest']=df['A1Ctest'].map({'no':0, 'normal':1, 'high':2})"
   ]
  },
  {
   "cell_type": "markdown",
   "id": "e2cbd169",
   "metadata": {},
   "source": [
    "### One Hot Encoding"
   ]
  },
  {
   "cell_type": "code",
   "execution_count": 193,
   "id": "dc293312",
   "metadata": {},
   "outputs": [],
   "source": [
    "diag = 'Diabetes'\n",
    "\n",
    "df['Diabetes_ind'] = (df['diag_1'].str.contains(diag) | df['diag_2'].str.contains(diag) | df['diag_3'].str.contains(diag)) * 1"
   ]
  },
  {
   "cell_type": "code",
   "execution_count": 194,
   "id": "70d52e5c",
   "metadata": {},
   "outputs": [],
   "source": [
    "df.drop(['medical_specialty','diag_1','diag_2','diag_3'],axis=1,inplace=True)"
   ]
  },
  {
   "cell_type": "code",
   "execution_count": 195,
   "id": "35bea7e8",
   "metadata": {},
   "outputs": [],
   "source": [
    "#df=pd.get_dummies(df,columns=['medical_specialty','diag_1','diag_2','diag_3'],drop_first=True)"
   ]
  },
  {
   "cell_type": "code",
   "execution_count": 196,
   "id": "dbc04820",
   "metadata": {},
   "outputs": [
    {
     "data": {
      "text/html": [
       "<div>\n",
       "<style scoped>\n",
       "    .dataframe tbody tr th:only-of-type {\n",
       "        vertical-align: middle;\n",
       "    }\n",
       "\n",
       "    .dataframe tbody tr th {\n",
       "        vertical-align: top;\n",
       "    }\n",
       "\n",
       "    .dataframe thead th {\n",
       "        text-align: right;\n",
       "    }\n",
       "</style>\n",
       "<table border=\"1\" class=\"dataframe\">\n",
       "  <thead>\n",
       "    <tr style=\"text-align: right;\">\n",
       "      <th></th>\n",
       "      <th>age</th>\n",
       "      <th>time_in_hospital</th>\n",
       "      <th>n_lab_procedures</th>\n",
       "      <th>n_procedures</th>\n",
       "      <th>n_medications</th>\n",
       "      <th>n_outpatient</th>\n",
       "      <th>n_inpatient</th>\n",
       "      <th>n_emergency</th>\n",
       "      <th>glucose_test</th>\n",
       "      <th>A1Ctest</th>\n",
       "      <th>change</th>\n",
       "      <th>diabetes_med</th>\n",
       "      <th>readmitted</th>\n",
       "      <th>Diabetes_ind</th>\n",
       "    </tr>\n",
       "  </thead>\n",
       "  <tbody>\n",
       "    <tr>\n",
       "      <th>0</th>\n",
       "      <td>4</td>\n",
       "      <td>8</td>\n",
       "      <td>72</td>\n",
       "      <td>1</td>\n",
       "      <td>18</td>\n",
       "      <td>2</td>\n",
       "      <td>0</td>\n",
       "      <td>0</td>\n",
       "      <td>0</td>\n",
       "      <td>0</td>\n",
       "      <td>0</td>\n",
       "      <td>1</td>\n",
       "      <td>0</td>\n",
       "      <td>0</td>\n",
       "    </tr>\n",
       "    <tr>\n",
       "      <th>1</th>\n",
       "      <td>4</td>\n",
       "      <td>3</td>\n",
       "      <td>34</td>\n",
       "      <td>2</td>\n",
       "      <td>13</td>\n",
       "      <td>0</td>\n",
       "      <td>0</td>\n",
       "      <td>0</td>\n",
       "      <td>0</td>\n",
       "      <td>0</td>\n",
       "      <td>0</td>\n",
       "      <td>1</td>\n",
       "      <td>0</td>\n",
       "      <td>0</td>\n",
       "    </tr>\n",
       "    <tr>\n",
       "      <th>2</th>\n",
       "      <td>2</td>\n",
       "      <td>5</td>\n",
       "      <td>45</td>\n",
       "      <td>0</td>\n",
       "      <td>18</td>\n",
       "      <td>0</td>\n",
       "      <td>0</td>\n",
       "      <td>0</td>\n",
       "      <td>0</td>\n",
       "      <td>0</td>\n",
       "      <td>1</td>\n",
       "      <td>1</td>\n",
       "      <td>1</td>\n",
       "      <td>0</td>\n",
       "    </tr>\n",
       "    <tr>\n",
       "      <th>3</th>\n",
       "      <td>4</td>\n",
       "      <td>2</td>\n",
       "      <td>36</td>\n",
       "      <td>0</td>\n",
       "      <td>12</td>\n",
       "      <td>1</td>\n",
       "      <td>0</td>\n",
       "      <td>0</td>\n",
       "      <td>0</td>\n",
       "      <td>0</td>\n",
       "      <td>1</td>\n",
       "      <td>1</td>\n",
       "      <td>1</td>\n",
       "      <td>1</td>\n",
       "    </tr>\n",
       "    <tr>\n",
       "      <th>4</th>\n",
       "      <td>3</td>\n",
       "      <td>1</td>\n",
       "      <td>42</td>\n",
       "      <td>0</td>\n",
       "      <td>7</td>\n",
       "      <td>0</td>\n",
       "      <td>0</td>\n",
       "      <td>0</td>\n",
       "      <td>0</td>\n",
       "      <td>0</td>\n",
       "      <td>0</td>\n",
       "      <td>1</td>\n",
       "      <td>0</td>\n",
       "      <td>0</td>\n",
       "    </tr>\n",
       "  </tbody>\n",
       "</table>\n",
       "</div>"
      ],
      "text/plain": [
       "   age  time_in_hospital  n_lab_procedures  n_procedures  n_medications  \\\n",
       "0    4                 8                72             1             18   \n",
       "1    4                 3                34             2             13   \n",
       "2    2                 5                45             0             18   \n",
       "3    4                 2                36             0             12   \n",
       "4    3                 1                42             0              7   \n",
       "\n",
       "   n_outpatient  n_inpatient  n_emergency  glucose_test  A1Ctest  change  \\\n",
       "0             2            0            0             0        0       0   \n",
       "1             0            0            0             0        0       0   \n",
       "2             0            0            0             0        0       1   \n",
       "3             1            0            0             0        0       1   \n",
       "4             0            0            0             0        0       0   \n",
       "\n",
       "   diabetes_med  readmitted  Diabetes_ind  \n",
       "0             1           0             0  \n",
       "1             1           0             0  \n",
       "2             1           1             0  \n",
       "3             1           1             1  \n",
       "4             1           0             0  "
      ]
     },
     "execution_count": 196,
     "metadata": {},
     "output_type": "execute_result"
    }
   ],
   "source": [
    "df.head()"
   ]
  },
  {
   "cell_type": "markdown",
   "id": "84b2e841",
   "metadata": {},
   "source": [
    "## Removing The Skewness"
   ]
  },
  {
   "cell_type": "code",
   "execution_count": 197,
   "id": "de726d05",
   "metadata": {},
   "outputs": [
    {
     "data": {
      "text/plain": [
       "['age',\n",
       " 'time_in_hospital',\n",
       " 'n_lab_procedures',\n",
       " 'n_procedures',\n",
       " 'n_medications',\n",
       " 'n_outpatient',\n",
       " 'n_inpatient',\n",
       " 'n_emergency',\n",
       " 'glucose_test',\n",
       " 'A1Ctest',\n",
       " 'change',\n",
       " 'diabetes_med',\n",
       " 'readmitted',\n",
       " 'Diabetes_ind']"
      ]
     },
     "execution_count": 197,
     "metadata": {},
     "output_type": "execute_result"
    }
   ],
   "source": [
    "numeric = []\n",
    "for label,content in df.items():\n",
    "    if pd.api.types.is_numeric_dtype(content):\n",
    "        numeric.append(label)\n",
    "numeric"
   ]
  },
  {
   "cell_type": "code",
   "execution_count": 198,
   "id": "e8beff8a",
   "metadata": {},
   "outputs": [
    {
     "name": "stdout",
     "output_type": "stream",
     "text": [
      "Skewness for column age is -0.12617834094193964\n",
      "Skewness for column time_in_hospital is 1.1089046215797012\n",
      "Skewness for column n_lab_procedures is -0.23867243659162238\n",
      "Skewness for column n_procedures is 1.300571775017207\n",
      "Skewness for column n_medications is 1.316139001531739\n",
      "Skewness for column n_outpatient is 7.302605309338813\n",
      "Skewness for column n_inpatient is 3.2546341152152656\n",
      "Skewness for column n_emergency is 24.530151688037062\n",
      "Skewness for column glucose_test is 4.543494265604681\n",
      "Skewness for column A1Ctest is 2.0917443579586\n",
      "Skewness for column change is 0.16003944219954086\n",
      "Skewness for column diabetes_med is -1.2773556090950322\n",
      "Skewness for column readmitted is 0.11958030684081818\n",
      "Skewness for column Diabetes_ind is 0.6220147744685712\n"
     ]
    }
   ],
   "source": [
    "from scipy.stats import skew\n",
    "for col in numeric:\n",
    "    print(f'Skewness for column {col} is {df[col].skew()}')"
   ]
  },
  {
   "cell_type": "code",
   "execution_count": 199,
   "id": "ea68f557",
   "metadata": {
    "scrolled": true
   },
   "outputs": [
    {
     "data": {
      "text/plain": [
       "Index(['age', 'time_in_hospital', 'n_lab_procedures', 'n_procedures',\n",
       "       'n_medications', 'n_outpatient', 'n_inpatient', 'n_emergency',\n",
       "       'glucose_test', 'A1Ctest', 'change', 'diabetes_med', 'readmitted',\n",
       "       'Diabetes_ind'],\n",
       "      dtype='object')"
      ]
     },
     "execution_count": 199,
     "metadata": {},
     "output_type": "execute_result"
    }
   ],
   "source": [
    "df.columns"
   ]
  },
  {
   "cell_type": "code",
   "execution_count": 200,
   "id": "3f66f015",
   "metadata": {},
   "outputs": [],
   "source": [
    "#Transforming all colimns that have noticeable skewness\n",
    "transformCols = ['time_in_hospital','n_procedures',\n",
    "                 'n_medications','n_outpatient','n_inpatient',\n",
    "                 'n_emergency','glucose_test','A1Ctest','diabetes_med']"
   ]
  },
  {
   "cell_type": "code",
   "execution_count": 201,
   "id": "597d76d9",
   "metadata": {},
   "outputs": [],
   "source": [
    "df_log = df.copy()"
   ]
  },
  {
   "cell_type": "code",
   "execution_count": 202,
   "id": "f8af592a",
   "metadata": {},
   "outputs": [
    {
     "data": {
      "text/plain": [
       "age                 0\n",
       "time_in_hospital    0\n",
       "n_lab_procedures    0\n",
       "n_procedures        0\n",
       "n_medications       0\n",
       "n_outpatient        0\n",
       "n_inpatient         0\n",
       "n_emergency         0\n",
       "glucose_test        0\n",
       "A1Ctest             0\n",
       "change              0\n",
       "diabetes_med        0\n",
       "readmitted          0\n",
       "Diabetes_ind        0\n",
       "dtype: int64"
      ]
     },
     "execution_count": 202,
     "metadata": {},
     "output_type": "execute_result"
    }
   ],
   "source": [
    "for feat in transformCols:\n",
    "    #Add one to avoid INF values\n",
    "    df_log[feat] = np.log(1+df[feat])\n",
    "    \n",
    "#Check how many INF readings we have in the data\n",
    "np.isinf(df_log).sum()\n",
    "\n",
    "#Note the high rates of INF readings in n_procedures, n_outpatient, n_inpatient and n_emergency"
   ]
  },
  {
   "cell_type": "code",
   "execution_count": 203,
   "id": "206bfee6",
   "metadata": {},
   "outputs": [
    {
     "data": {
      "text/plain": [
       "age                 0\n",
       "time_in_hospital    0\n",
       "n_lab_procedures    0\n",
       "n_procedures        0\n",
       "n_medications       0\n",
       "n_outpatient        0\n",
       "n_inpatient         0\n",
       "n_emergency         0\n",
       "glucose_test        0\n",
       "A1Ctest             0\n",
       "change              0\n",
       "diabetes_med        0\n",
       "readmitted          0\n",
       "Diabetes_ind        0\n",
       "dtype: int64"
      ]
     },
     "execution_count": 203,
     "metadata": {},
     "output_type": "execute_result"
    }
   ],
   "source": [
    "#Change INF values to mean for each feature\n",
    "for i in transformCols:\n",
    "    df_log[i].replace([np.inf, -np.inf], np.nan, inplace=True)\n",
    "    df_log[i] = df_log[i].fillna(df_log[i].mean())\n",
    "\n",
    "np.isinf(df_log).sum()"
   ]
  },
  {
   "cell_type": "code",
   "execution_count": 204,
   "id": "52734230",
   "metadata": {},
   "outputs": [
    {
     "name": "stdout",
     "output_type": "stream",
     "text": [
      "Skewness for column age is -0.12617834094193964\n",
      "Skewness for column time_in_hospital is 0.07075609499089563\n",
      "Skewness for column n_lab_procedures is -0.23867243659162238\n",
      "Skewness for column n_procedures is 0.5115945965686916\n",
      "Skewness for column n_medications is -0.4884437187384155\n",
      "Skewness for column n_outpatient is 2.666541444481695\n",
      "Skewness for column n_inpatient is 1.3800853761275125\n",
      "Skewness for column n_emergency is 3.6419979456014993\n",
      "Skewness for column glucose_test is 4.230078809140534\n",
      "Skewness for column A1Ctest is 1.9772533985349654\n",
      "Skewness for column change is 0.16003944219954086\n",
      "Skewness for column diabetes_med is -1.277355609095032\n",
      "Skewness for column readmitted is 0.11958030684081818\n",
      "Skewness for column Diabetes_ind is 0.6220147744685712\n"
     ]
    }
   ],
   "source": [
    "from scipy.stats import skew\n",
    "for col in numeric:\n",
    "    print(f'Skewness for column {col} is {df_log[col].skew()}')"
   ]
  },
  {
   "cell_type": "code",
   "execution_count": 205,
   "id": "c21e1fbc",
   "metadata": {},
   "outputs": [
    {
     "data": {
      "text/plain": [
       "Index(['age', 'time_in_hospital', 'n_lab_procedures', 'n_procedures',\n",
       "       'n_medications', 'n_outpatient', 'n_inpatient', 'n_emergency',\n",
       "       'glucose_test', 'A1Ctest', 'change', 'diabetes_med', 'readmitted',\n",
       "       'Diabetes_ind'],\n",
       "      dtype='object')"
      ]
     },
     "execution_count": 205,
     "metadata": {},
     "output_type": "execute_result"
    }
   ],
   "source": [
    "df_log.columns"
   ]
  },
  {
   "cell_type": "code",
   "execution_count": 206,
   "id": "06db4a0f",
   "metadata": {},
   "outputs": [],
   "source": [
    "col=['age', 'time_in_hospital', 'n_lab_procedures', 'n_procedures',\n",
    "       'n_medications', 'n_outpatient', 'n_inpatient', 'n_emergency',\n",
    "       'glucose_test', 'A1Ctest', 'change', 'diabetes_med',\n",
    "       'Diabetes_ind', 'readmitted']"
   ]
  },
  {
   "cell_type": "code",
   "execution_count": 207,
   "id": "fe814fa8",
   "metadata": {},
   "outputs": [],
   "source": [
    "df_log=df_log[col]"
   ]
  },
  {
   "cell_type": "code",
   "execution_count": 208,
   "id": "74dc603b",
   "metadata": {},
   "outputs": [
    {
     "data": {
      "text/html": [
       "<div>\n",
       "<style scoped>\n",
       "    .dataframe tbody tr th:only-of-type {\n",
       "        vertical-align: middle;\n",
       "    }\n",
       "\n",
       "    .dataframe tbody tr th {\n",
       "        vertical-align: top;\n",
       "    }\n",
       "\n",
       "    .dataframe thead th {\n",
       "        text-align: right;\n",
       "    }\n",
       "</style>\n",
       "<table border=\"1\" class=\"dataframe\">\n",
       "  <thead>\n",
       "    <tr style=\"text-align: right;\">\n",
       "      <th></th>\n",
       "      <th>age</th>\n",
       "      <th>time_in_hospital</th>\n",
       "      <th>n_lab_procedures</th>\n",
       "      <th>n_procedures</th>\n",
       "      <th>n_medications</th>\n",
       "      <th>n_outpatient</th>\n",
       "      <th>n_inpatient</th>\n",
       "      <th>n_emergency</th>\n",
       "      <th>glucose_test</th>\n",
       "      <th>A1Ctest</th>\n",
       "      <th>change</th>\n",
       "      <th>diabetes_med</th>\n",
       "      <th>Diabetes_ind</th>\n",
       "      <th>readmitted</th>\n",
       "    </tr>\n",
       "  </thead>\n",
       "  <tbody>\n",
       "    <tr>\n",
       "      <th>0</th>\n",
       "      <td>4</td>\n",
       "      <td>2.197225</td>\n",
       "      <td>72</td>\n",
       "      <td>0.693147</td>\n",
       "      <td>2.944439</td>\n",
       "      <td>1.098612</td>\n",
       "      <td>0.0</td>\n",
       "      <td>0.0</td>\n",
       "      <td>0.0</td>\n",
       "      <td>0.0</td>\n",
       "      <td>0</td>\n",
       "      <td>0.693147</td>\n",
       "      <td>0</td>\n",
       "      <td>0</td>\n",
       "    </tr>\n",
       "    <tr>\n",
       "      <th>1</th>\n",
       "      <td>4</td>\n",
       "      <td>1.386294</td>\n",
       "      <td>34</td>\n",
       "      <td>1.098612</td>\n",
       "      <td>2.639057</td>\n",
       "      <td>0.000000</td>\n",
       "      <td>0.0</td>\n",
       "      <td>0.0</td>\n",
       "      <td>0.0</td>\n",
       "      <td>0.0</td>\n",
       "      <td>0</td>\n",
       "      <td>0.693147</td>\n",
       "      <td>0</td>\n",
       "      <td>0</td>\n",
       "    </tr>\n",
       "    <tr>\n",
       "      <th>2</th>\n",
       "      <td>2</td>\n",
       "      <td>1.791759</td>\n",
       "      <td>45</td>\n",
       "      <td>0.000000</td>\n",
       "      <td>2.944439</td>\n",
       "      <td>0.000000</td>\n",
       "      <td>0.0</td>\n",
       "      <td>0.0</td>\n",
       "      <td>0.0</td>\n",
       "      <td>0.0</td>\n",
       "      <td>1</td>\n",
       "      <td>0.693147</td>\n",
       "      <td>0</td>\n",
       "      <td>1</td>\n",
       "    </tr>\n",
       "    <tr>\n",
       "      <th>3</th>\n",
       "      <td>4</td>\n",
       "      <td>1.098612</td>\n",
       "      <td>36</td>\n",
       "      <td>0.000000</td>\n",
       "      <td>2.564949</td>\n",
       "      <td>0.693147</td>\n",
       "      <td>0.0</td>\n",
       "      <td>0.0</td>\n",
       "      <td>0.0</td>\n",
       "      <td>0.0</td>\n",
       "      <td>1</td>\n",
       "      <td>0.693147</td>\n",
       "      <td>1</td>\n",
       "      <td>1</td>\n",
       "    </tr>\n",
       "    <tr>\n",
       "      <th>4</th>\n",
       "      <td>3</td>\n",
       "      <td>0.693147</td>\n",
       "      <td>42</td>\n",
       "      <td>0.000000</td>\n",
       "      <td>2.079442</td>\n",
       "      <td>0.000000</td>\n",
       "      <td>0.0</td>\n",
       "      <td>0.0</td>\n",
       "      <td>0.0</td>\n",
       "      <td>0.0</td>\n",
       "      <td>0</td>\n",
       "      <td>0.693147</td>\n",
       "      <td>0</td>\n",
       "      <td>0</td>\n",
       "    </tr>\n",
       "  </tbody>\n",
       "</table>\n",
       "</div>"
      ],
      "text/plain": [
       "   age  time_in_hospital  n_lab_procedures  n_procedures  n_medications  \\\n",
       "0    4          2.197225                72      0.693147       2.944439   \n",
       "1    4          1.386294                34      1.098612       2.639057   \n",
       "2    2          1.791759                45      0.000000       2.944439   \n",
       "3    4          1.098612                36      0.000000       2.564949   \n",
       "4    3          0.693147                42      0.000000       2.079442   \n",
       "\n",
       "   n_outpatient  n_inpatient  n_emergency  glucose_test  A1Ctest  change  \\\n",
       "0      1.098612          0.0          0.0           0.0      0.0       0   \n",
       "1      0.000000          0.0          0.0           0.0      0.0       0   \n",
       "2      0.000000          0.0          0.0           0.0      0.0       1   \n",
       "3      0.693147          0.0          0.0           0.0      0.0       1   \n",
       "4      0.000000          0.0          0.0           0.0      0.0       0   \n",
       "\n",
       "   diabetes_med  Diabetes_ind  readmitted  \n",
       "0      0.693147             0           0  \n",
       "1      0.693147             0           0  \n",
       "2      0.693147             0           1  \n",
       "3      0.693147             1           1  \n",
       "4      0.693147             0           0  "
      ]
     },
     "execution_count": 208,
     "metadata": {},
     "output_type": "execute_result"
    }
   ],
   "source": [
    "df_log.head()"
   ]
  },
  {
   "cell_type": "code",
   "execution_count": 209,
   "id": "79d672da",
   "metadata": {},
   "outputs": [
    {
     "data": {
      "text/plain": [
       "(25000, 14)"
      ]
     },
     "execution_count": 209,
     "metadata": {},
     "output_type": "execute_result"
    }
   ],
   "source": [
    "df_log.shape"
   ]
  },
  {
   "cell_type": "markdown",
   "id": "953f15c6",
   "metadata": {},
   "source": [
    "## Outlier"
   ]
  },
  {
   "cell_type": "code",
   "execution_count": 210,
   "id": "a87a6429",
   "metadata": {},
   "outputs": [],
   "source": [
    "from scipy import stats"
   ]
  },
  {
   "cell_type": "code",
   "execution_count": 211,
   "id": "84536ff5",
   "metadata": {},
   "outputs": [],
   "source": [
    "df_new=df_log[(np.abs(stats.zscore(df))<3).all(axis=1)]"
   ]
  },
  {
   "cell_type": "code",
   "execution_count": 212,
   "id": "fb84f880",
   "metadata": {},
   "outputs": [
    {
     "data": {
      "text/plain": [
       "(22500, 14)"
      ]
     },
     "execution_count": 212,
     "metadata": {},
     "output_type": "execute_result"
    }
   ],
   "source": [
    "df_new.shape"
   ]
  },
  {
   "cell_type": "code",
   "execution_count": 213,
   "id": "e854c8d8",
   "metadata": {},
   "outputs": [],
   "source": [
    "X=df_log.drop('readmitted',axis=1)\n",
    "y=df_log['readmitted']"
   ]
  },
  {
   "cell_type": "markdown",
   "id": "cebefc3c",
   "metadata": {},
   "source": [
    "## Splitting the Data"
   ]
  },
  {
   "cell_type": "code",
   "execution_count": 214,
   "id": "28b730a7",
   "metadata": {},
   "outputs": [],
   "source": [
    "from sklearn.model_selection import train_test_split\n",
    "X_train, X_test, y_train, y_test = train_test_split(X, y, test_size=0.33, random_state=42)"
   ]
  },
  {
   "cell_type": "markdown",
   "id": "fc6e50e6",
   "metadata": {},
   "source": [
    "## Scalling"
   ]
  },
  {
   "cell_type": "code",
   "execution_count": 216,
   "id": "fcbc24e5",
   "metadata": {},
   "outputs": [],
   "source": [
    "from sklearn.preprocessing import StandardScaler\n",
    "#from sklearn.decomposition import PCA\n",
    "from sklearn.pipeline import make_pipeline\n",
    "\n",
    "# Instantiate StandardScaler, PCA as scaler and pca respectively\n",
    "scaler = StandardScaler()\n",
    "#pca = PCA()\n",
    "# Create the pipeline using scaler and the pca object\n"
   ]
  },
  {
   "cell_type": "code",
   "execution_count": 217,
   "id": "14807c47",
   "metadata": {},
   "outputs": [],
   "source": [
    "X_train=scaler.fit_transform(X_train)\n",
    "X_test=scaler.transform(X_test)"
   ]
  },
  {
   "cell_type": "code",
   "execution_count": null,
   "id": "27f43a11",
   "metadata": {},
   "outputs": [],
   "source": [
    "# X_train=pipeline.fit_transform(X_train)\n",
    "# X_test=pipeline.transform(X_test)"
   ]
  },
  {
   "cell_type": "markdown",
   "id": "84a258cf",
   "metadata": {},
   "source": [
    "## Model"
   ]
  },
  {
   "cell_type": "code",
   "execution_count": 218,
   "id": "2d3efe39",
   "metadata": {},
   "outputs": [],
   "source": [
    "from sklearn.linear_model import LogisticRegression\n",
    "from sklearn.metrics import confusion_matrix,classification_report,roc_auc_score,accuracy_score,balanced_accuracy_score,f1_score"
   ]
  },
  {
   "cell_type": "code",
   "execution_count": 219,
   "id": "958c69c1",
   "metadata": {},
   "outputs": [
    {
     "name": "stdout",
     "output_type": "stream",
     "text": [
      "confusion_matrix\n",
      "[[3282 1122]\n",
      " [2114 1732]]\n",
      "\n",
      "\n",
      "classification_report\n",
      "              precision    recall  f1-score   support\n",
      "\n",
      "           0       0.61      0.75      0.67      4404\n",
      "           1       0.61      0.45      0.52      3846\n",
      "\n",
      "    accuracy                           0.61      8250\n",
      "   macro avg       0.61      0.60      0.59      8250\n",
      "weighted avg       0.61      0.61      0.60      8250\n",
      "\n",
      "\n",
      "\n",
      "Accuracy: 60.775757575757574\n",
      "\n",
      "\n",
      "Roc Value: 0.5977848105749843\n"
     ]
    }
   ],
   "source": [
    "M1=LogisticRegression()\n",
    "M1.fit(X_train,y_train)\n",
    "P1=M1.predict(X_test)\n",
    "print('confusion_matrix')\n",
    "print(confusion_matrix(y_test,P1))\n",
    "print('\\n')\n",
    "print('classification_report')\n",
    "print(classification_report(y_test,P1))\n",
    "print('\\n')\n",
    "print('Accuracy:',100*accuracy_score(y_test,P1))\n",
    "print('\\n')\n",
    "print('Roc Value:',roc_auc_score(y_test,M1.predict(X_test)))"
   ]
  },
  {
   "cell_type": "code",
   "execution_count": 220,
   "id": "b701ed51",
   "metadata": {},
   "outputs": [],
   "source": [
    "from sklearn.ensemble import RandomForestClassifier\n",
    "# Define parameters: these will need to be tuned to prevent overfitting and underfitting\n",
    "params = {\n",
    "    \"n_estimators\": 97,  # Number of trees in the forest\n",
    "    \"max_depth\": 10,  # Max depth of the tree\n",
    "    \"min_samples_split\": 3,  # Min number of samples required to split a node\n",
    "    \"min_samples_leaf\": 1,  # Min number of samples required at a leaf node\n",
    "    \"ccp_alpha\": 0,  # Cost complexity parameter for pruning\n",
    "    \"random_state\": 123,\n",
    "}\n",
    "#{'n_estimators': 97, 'min_samples_split': 3, 'min_samples_leaf': 1, 'max_depth': 10, 'ccp_alpha': 0}\n",
    "\n",
    "# Create a RandomForestRegressor object with the parameters above\n",
    "rf = RandomForestClassifier(**params)\n",
    "\n",
    "# Train the random forest on the train set\n",
    "rf = rf.fit(X_train, y_train)\n",
    "\n",
    "# Predict the outcomes on the test set\n",
    "y_pred = rf.predict(X_test)"
   ]
  },
  {
   "cell_type": "code",
   "execution_count": 221,
   "id": "48afa55f",
   "metadata": {},
   "outputs": [
    {
     "name": "stdout",
     "output_type": "stream",
     "text": [
      "Training Set: 0.6832835820895522\n",
      "Test Set: 0.6130909090909091\n",
      "Accuracy: 61.31%\n"
     ]
    }
   ],
   "source": [
    "y_pred = rf.predict(X_test)\n",
    "print('Training Set:', rf.score(X_train,y_train))\n",
    "print('Test Set:', rf.score(X_test,y_test))\n",
    "\n",
    "# Calculate the accuracy, precision, and recall scores\n",
    "print(\"Accuracy:\", \"{:.2f}%\".format(accuracy_score(y_test, y_pred)*100))"
   ]
  },
  {
   "cell_type": "code",
   "execution_count": null,
   "id": "e5667907",
   "metadata": {},
   "outputs": [],
   "source": [
    "# from lazypredict.Supervised import LazyClassifier, LazyRegressor\n",
    "# from sklearn.metrics import cohen_kappa_score"
   ]
  },
  {
   "cell_type": "code",
   "execution_count": 264,
   "id": "b9ec6155",
   "metadata": {},
   "outputs": [],
   "source": [
    "# clf = LazyClassifier(verbose=0,\n",
    "#                      ignore_warnings=True,\n",
    "#                      custom_metric=cohen_kappa_score,\n",
    "#                      predictions=False,\n",
    "#                      random_state=42,\n",
    "#                      classifiers = \"all\"\n",
    "#                      )\n",
    "\n",
    "# models_class, predictions_class = clf.fit(X_train , X_test , y_train , y_test)\n",
    "# models_class.sort_values(by='Accuracy', ascending=False,)"
   ]
  },
  {
   "cell_type": "markdown",
   "id": "e24e01d6",
   "metadata": {},
   "source": [
    "## Models"
   ]
  },
  {
   "cell_type": "code",
   "execution_count": 242,
   "id": "42d21996",
   "metadata": {},
   "outputs": [],
   "source": [
    "import pandas as pd\n",
    "from sklearn.linear_model import LogisticRegression\n",
    "from sklearn.metrics import roc_auc_score,accuracy_score,balanced_accuracy_score,f1_score\n",
    "from sklearn.tree import DecisionTreeClassifier\n",
    "from sklearn.ensemble import RandomForestClassifier\n",
    "from sklearn.svm import SVC\n",
    "from sklearn.neighbors import KNeighborsClassifier\n",
    "from sklearn.naive_bayes import GaussianNB\n",
    "from sklearn.ensemble import GradientBoostingClassifier\n",
    "from sklearn.ensemble import HistGradientBoostingClassifier\n",
    "from catboost import CatBoostClassifier\n",
    "from xgboost import XGBClassifier\n",
    "from lightgbm import LGBMClassifier\n",
    "from sklearn.neural_network import MLPClassifier\n",
    "from sklearn.ensemble import BaggingClassifier\n",
    "from sklearn.svm import LinearSVC\n",
    "from sklearn.linear_model import SGDClassifier\n",
    "from sklearn.linear_model import Perceptron\n",
    "from sklearn.linear_model import LogisticRegressionCV\n",
    "from sklearn.calibration import CalibratedClassifierCV\n",
    "from sklearn.linear_model import PassiveAggressiveClassifier\n",
    "from sklearn.discriminant_analysis import QuadraticDiscriminantAnalysis\n",
    "from sklearn.linear_model import RidgeClassifierCV\n",
    "from sklearn.linear_model import RidgeClassifier\n",
    "from sklearn.ensemble import ExtraTreesClassifier\n",
    "from sklearn.naive_bayes import BernoulliNB\n",
    "from sklearn.discriminant_analysis import LinearDiscriminantAnalysis\n",
    "from sklearn.svm import NuSVC\n",
    "from sklearn.neighbors import NearestCentroid\n",
    "from sklearn.dummy import DummyClassifier"
   ]
  },
  {
   "cell_type": "code",
   "execution_count": 288,
   "id": "ce368138",
   "metadata": {},
   "outputs": [],
   "source": [
    "Name=['Logistic Regression','Random Forest Classifier','Decision Tree','Naive Bayes classifier', 'SVM','KNN', \n",
    "      'GBBoosting','Histogram Boosting Classifier','XGB Boosting','Light GBM',\n",
    "      'CAT Boosting','Neural_Network','Bagging_classifier','LinearSVC','SGD Classifier','Perceptron','LogisticRegressionCV',\n",
    "     'CalibratedClassifierCV','PassiveAggressiveClassifier','QuadraticDiscriminantAnalysis','RidgeClassifierCV',\n",
    "     'RidgeClassifier','ExtraTreesClassifier','BernoulliNB','LinearDiscriminantAnalysis ','NuSVC','NearestCentroid',\n",
    "      'DummyClassifier']\n",
    "clfs= [LogisticRegression(),RandomForestClassifier(),DecisionTreeClassifier(),GaussianNB(),SVC(),KNeighborsClassifier(n_neighbors=2),\n",
    "      GradientBoostingClassifier(n_estimators=100, learning_rate=1.0, max_depth=1),\n",
    "       HistGradientBoostingClassifier(),XGBClassifier(),LGBMClassifier(),MLPClassifier(),\n",
    "       CatBoostClassifier(verbose=0),BaggingClassifier(base_estimator=GradientBoostingClassifier()),LinearSVC(),SGDClassifier(),\n",
    "      Perceptron(),LogisticRegressionCV(),CalibratedClassifierCV(GaussianNB(), cv=2),\n",
    "       PassiveAggressiveClassifier(max_iter=1000, random_state=0,tol=1e-3),QuadraticDiscriminantAnalysis(),\n",
    "      RidgeClassifierCV(),RidgeClassifier(),ExtraTreesClassifier(),BernoulliNB(),LinearDiscriminantAnalysis(),NuSVC(),\n",
    "       NearestCentroid(),DummyClassifier()]"
   ]
  },
  {
   "cell_type": "code",
   "execution_count": 289,
   "id": "28e55a66",
   "metadata": {},
   "outputs": [],
   "source": [
    "Roc_score=[]\n",
    "Accuracy_score=[]\n",
    "Balenced_accuracy=[]\n",
    "F1_score=[]\n",
    "Confusion_metrix=[]\n",
    "Classification_Report=[]\n",
    "\n",
    "for i in clfs:\n",
    "    i.fit(X_train,y_train)\n",
    "    \n",
    "    Roc_value=roc_auc_score(y_test,i.predict(X_test))\n",
    "    acc_value=100*accuracy_score(y_test,i.predict(X_test))\n",
    "    Bal_acc_value=balanced_accuracy_score(y_test,i.predict(X_test))\n",
    "    F1_value=f1_score(y_test,i.predict(X_test))\n",
    "    Confusion_metrix_value=confusion_matrix(y_test,i.predict(X_test))\n",
    "    Classification_Report_value=classification_report(y_test,i.predict(X_test))\n",
    "    \n",
    "    Roc_score.append(Roc_value)\n",
    "    Accuracy_score.append(acc_value)\n",
    "    Balenced_accuracy.append(Bal_acc_value)\n",
    "    F1_score.append(F1_value)\n",
    "    Confusion_metrix.append(Confusion_metrix_value)\n",
    "    Classification_Report.append(Classification_Report_value)"
   ]
  },
  {
   "cell_type": "code",
   "execution_count": 290,
   "id": "50f9a71d",
   "metadata": {},
   "outputs": [
    {
     "name": "stdout",
     "output_type": "stream",
     "text": [
      "                               AROC  Accuracy  Bal Accu  F1 Score\n",
      "SVM                            0.61     61.81      0.61      0.55\n",
      "Histogram Boosting Classifier  0.61     61.49      0.61      0.55\n",
      "Bagging_classifier             0.61     61.48      0.61      0.53\n",
      "Neural_Network                 0.61     61.26      0.61      0.54\n",
      "GBBoosting                     0.60     61.13      0.60      0.52\n",
      "Light GBM                      0.60     60.81      0.60      0.54\n",
      "NearestCentroid                0.60     60.46      0.60      0.54\n",
      "Logistic Regression            0.60     60.78      0.60      0.52\n",
      "LogisticRegressionCV           0.60     60.75      0.60      0.52\n",
      "BernoulliNB                    0.60     60.46      0.60      0.54\n",
      "RidgeClassifier                0.60     60.74      0.60      0.51\n",
      "RidgeClassifierCV              0.60     60.74      0.60      0.51\n",
      "LinearSVC                      0.60     60.73      0.60      0.51\n",
      "LinearDiscriminantAnalysis     0.60     60.73      0.60      0.51\n",
      "QuadraticDiscriminantAnalysis  0.60     61.08      0.60      0.48\n",
      "CAT Boosting                   0.60     60.68      0.60      0.51\n",
      "CalibratedClassifierCV         0.60     60.96      0.60      0.48\n",
      "Naive Bayes classifier         0.59     60.80      0.59      0.47\n",
      "SGD Classifier                 0.59     60.76      0.59      0.45\n",
      "XGB Boosting                   0.59     59.43      0.59      0.54\n",
      "Random Forest Classifier       0.58     58.70      0.58      0.54\n",
      "ExtraTreesClassifier           0.57     57.24      0.57      0.53\n",
      "NuSVC                          0.56     56.80      0.56      0.51\n",
      "Perceptron                     0.56     55.32      0.56      0.57\n",
      "Decision Tree                  0.54     54.28      0.54      0.52\n",
      "PassiveAggressiveClassifier    0.53     52.72      0.53      0.54\n",
      "KNN                            0.53     54.90      0.53      0.36\n",
      "DummyClassifier                0.50     53.38      0.50      0.00\n"
     ]
    }
   ],
   "source": [
    "dict={'AROC':Roc_score ,'Accuracy':Accuracy_score,'Bal Accu':Balenced_accuracy,'F1 Score':F1_score}\n",
    "score = pd.DataFrame(dict, index=Name)\n",
    "score=score.sort_values(by='AROC',ascending=False)\n",
    "print(score)"
   ]
  },
  {
   "cell_type": "code",
   "execution_count": 291,
   "id": "81147a16",
   "metadata": {},
   "outputs": [],
   "source": [
    "# import PipelineProfiler\n",
    "# from autosklearn.classification import AutoSklearnClassifier"
   ]
  },
  {
   "cell_type": "code",
   "execution_count": 222,
   "id": "ba640ac5",
   "metadata": {},
   "outputs": [
    {
     "data": {
      "text/html": [
       "<div>\n",
       "<style scoped>\n",
       "    .dataframe tbody tr th:only-of-type {\n",
       "        vertical-align: middle;\n",
       "    }\n",
       "\n",
       "    .dataframe tbody tr th {\n",
       "        vertical-align: top;\n",
       "    }\n",
       "\n",
       "    .dataframe thead th {\n",
       "        text-align: right;\n",
       "    }\n",
       "</style>\n",
       "<table border=\"1\" class=\"dataframe\">\n",
       "  <thead>\n",
       "    <tr style=\"text-align: right;\">\n",
       "      <th></th>\n",
       "      <th>0</th>\n",
       "    </tr>\n",
       "  </thead>\n",
       "  <tbody>\n",
       "    <tr>\n",
       "      <th>n_inpatient</th>\n",
       "      <td>0.246013</td>\n",
       "    </tr>\n",
       "    <tr>\n",
       "      <th>n_lab_procedures</th>\n",
       "      <td>0.141500</td>\n",
       "    </tr>\n",
       "    <tr>\n",
       "      <th>n_medications</th>\n",
       "      <td>0.138068</td>\n",
       "    </tr>\n",
       "    <tr>\n",
       "      <th>time_in_hospital</th>\n",
       "      <td>0.083990</td>\n",
       "    </tr>\n",
       "    <tr>\n",
       "      <th>n_outpatient</th>\n",
       "      <td>0.080479</td>\n",
       "    </tr>\n",
       "    <tr>\n",
       "      <th>age</th>\n",
       "      <td>0.073056</td>\n",
       "    </tr>\n",
       "    <tr>\n",
       "      <th>n_emergency</th>\n",
       "      <td>0.066031</td>\n",
       "    </tr>\n",
       "    <tr>\n",
       "      <th>n_procedures</th>\n",
       "      <td>0.059077</td>\n",
       "    </tr>\n",
       "    <tr>\n",
       "      <th>diabetes_med</th>\n",
       "      <td>0.025884</td>\n",
       "    </tr>\n",
       "    <tr>\n",
       "      <th>A1Ctest</th>\n",
       "      <td>0.024024</td>\n",
       "    </tr>\n",
       "    <tr>\n",
       "      <th>glucose_test</th>\n",
       "      <td>0.023587</td>\n",
       "    </tr>\n",
       "    <tr>\n",
       "      <th>Diabetes_ind</th>\n",
       "      <td>0.021112</td>\n",
       "    </tr>\n",
       "    <tr>\n",
       "      <th>change</th>\n",
       "      <td>0.017179</td>\n",
       "    </tr>\n",
       "  </tbody>\n",
       "</table>\n",
       "</div>"
      ],
      "text/plain": [
       "                         0\n",
       "n_inpatient       0.246013\n",
       "n_lab_procedures  0.141500\n",
       "n_medications     0.138068\n",
       "time_in_hospital  0.083990\n",
       "n_outpatient      0.080479\n",
       "age               0.073056\n",
       "n_emergency       0.066031\n",
       "n_procedures      0.059077\n",
       "diabetes_med      0.025884\n",
       "A1Ctest           0.024024\n",
       "glucose_test      0.023587\n",
       "Diabetes_ind      0.021112\n",
       "change            0.017179"
      ]
     },
     "execution_count": 222,
     "metadata": {},
     "output_type": "execute_result"
    }
   ],
   "source": [
    "feature_imp = pd.DataFrame(rf.feature_importances_ ,index=X.columns)\n",
    "feature_imp.sort_values(by=0,ascending=False)"
   ]
  },
  {
   "cell_type": "code",
   "execution_count": 226,
   "id": "254efb6d",
   "metadata": {},
   "outputs": [
    {
     "data": {
      "text/html": [
       "<div>\n",
       "<style scoped>\n",
       "    .dataframe tbody tr th:only-of-type {\n",
       "        vertical-align: middle;\n",
       "    }\n",
       "\n",
       "    .dataframe tbody tr th {\n",
       "        vertical-align: top;\n",
       "    }\n",
       "\n",
       "    .dataframe thead th {\n",
       "        text-align: right;\n",
       "    }\n",
       "</style>\n",
       "<table border=\"1\" class=\"dataframe\">\n",
       "  <thead>\n",
       "    <tr style=\"text-align: right;\">\n",
       "      <th></th>\n",
       "      <th>0</th>\n",
       "    </tr>\n",
       "  </thead>\n",
       "  <tbody>\n",
       "    <tr>\n",
       "      <th>n_inpatient</th>\n",
       "      <td>0.246013</td>\n",
       "    </tr>\n",
       "    <tr>\n",
       "      <th>n_lab_procedures</th>\n",
       "      <td>0.141500</td>\n",
       "    </tr>\n",
       "    <tr>\n",
       "      <th>n_medications</th>\n",
       "      <td>0.138068</td>\n",
       "    </tr>\n",
       "    <tr>\n",
       "      <th>time_in_hospital</th>\n",
       "      <td>0.083990</td>\n",
       "    </tr>\n",
       "    <tr>\n",
       "      <th>n_outpatient</th>\n",
       "      <td>0.080479</td>\n",
       "    </tr>\n",
       "  </tbody>\n",
       "</table>\n",
       "</div>"
      ],
      "text/plain": [
       "                         0\n",
       "n_inpatient       0.246013\n",
       "n_lab_procedures  0.141500\n",
       "n_medications     0.138068\n",
       "time_in_hospital  0.083990\n",
       "n_outpatient      0.080479"
      ]
     },
     "execution_count": 226,
     "metadata": {},
     "output_type": "execute_result"
    }
   ],
   "source": [
    "feature_imp.sort_values(by=0,ascending=False)[:5]"
   ]
  },
  {
   "cell_type": "code",
   "execution_count": 223,
   "id": "348d5943",
   "metadata": {},
   "outputs": [
    {
     "data": {
      "text/plain": [
       "<AxesSubplot:>"
      ]
     },
     "execution_count": 223,
     "metadata": {},
     "output_type": "execute_result"
    },
    {
     "data": {
      "image/png": "[encoded data removed]",
      "text/plain": [
       "<Figure size 432x288 with 1 Axes>"
      ]
     },
     "metadata": {
      "needs_background": "light"
     },
     "output_type": "display_data"
    }
   ],
   "source": [
    "feature_imp.sort_values(by=0,ascending=True).plot(kind='barh')"
   ]
  },
  {
   "cell_type": "code",
   "execution_count": 232,
   "id": "be35934a",
   "metadata": {},
   "outputs": [],
   "source": [
    "df_imp=df_log.copy()"
   ]
  },
  {
   "cell_type": "code",
   "execution_count": 233,
   "id": "365f2850",
   "metadata": {},
   "outputs": [
    {
     "data": {
      "text/html": [
       "<div>\n",
       "<style scoped>\n",
       "    .dataframe tbody tr th:only-of-type {\n",
       "        vertical-align: middle;\n",
       "    }\n",
       "\n",
       "    .dataframe tbody tr th {\n",
       "        vertical-align: top;\n",
       "    }\n",
       "\n",
       "    .dataframe thead th {\n",
       "        text-align: right;\n",
       "    }\n",
       "</style>\n",
       "<table border=\"1\" class=\"dataframe\">\n",
       "  <thead>\n",
       "    <tr style=\"text-align: right;\">\n",
       "      <th></th>\n",
       "      <th>age</th>\n",
       "      <th>time_in_hospital</th>\n",
       "      <th>n_lab_procedures</th>\n",
       "      <th>n_procedures</th>\n",
       "      <th>n_medications</th>\n",
       "      <th>n_outpatient</th>\n",
       "      <th>n_inpatient</th>\n",
       "      <th>n_emergency</th>\n",
       "      <th>glucose_test</th>\n",
       "      <th>A1Ctest</th>\n",
       "      <th>change</th>\n",
       "      <th>diabetes_med</th>\n",
       "      <th>Diabetes_ind</th>\n",
       "      <th>readmitted</th>\n",
       "    </tr>\n",
       "  </thead>\n",
       "  <tbody>\n",
       "    <tr>\n",
       "      <th>0</th>\n",
       "      <td>4</td>\n",
       "      <td>2.197225</td>\n",
       "      <td>72</td>\n",
       "      <td>0.693147</td>\n",
       "      <td>2.944439</td>\n",
       "      <td>1.098612</td>\n",
       "      <td>0.0</td>\n",
       "      <td>0.0</td>\n",
       "      <td>0.0</td>\n",
       "      <td>0.0</td>\n",
       "      <td>0</td>\n",
       "      <td>0.693147</td>\n",
       "      <td>0</td>\n",
       "      <td>0</td>\n",
       "    </tr>\n",
       "    <tr>\n",
       "      <th>1</th>\n",
       "      <td>4</td>\n",
       "      <td>1.386294</td>\n",
       "      <td>34</td>\n",
       "      <td>1.098612</td>\n",
       "      <td>2.639057</td>\n",
       "      <td>0.000000</td>\n",
       "      <td>0.0</td>\n",
       "      <td>0.0</td>\n",
       "      <td>0.0</td>\n",
       "      <td>0.0</td>\n",
       "      <td>0</td>\n",
       "      <td>0.693147</td>\n",
       "      <td>0</td>\n",
       "      <td>0</td>\n",
       "    </tr>\n",
       "    <tr>\n",
       "      <th>2</th>\n",
       "      <td>2</td>\n",
       "      <td>1.791759</td>\n",
       "      <td>45</td>\n",
       "      <td>0.000000</td>\n",
       "      <td>2.944439</td>\n",
       "      <td>0.000000</td>\n",
       "      <td>0.0</td>\n",
       "      <td>0.0</td>\n",
       "      <td>0.0</td>\n",
       "      <td>0.0</td>\n",
       "      <td>1</td>\n",
       "      <td>0.693147</td>\n",
       "      <td>0</td>\n",
       "      <td>1</td>\n",
       "    </tr>\n",
       "    <tr>\n",
       "      <th>3</th>\n",
       "      <td>4</td>\n",
       "      <td>1.098612</td>\n",
       "      <td>36</td>\n",
       "      <td>0.000000</td>\n",
       "      <td>2.564949</td>\n",
       "      <td>0.693147</td>\n",
       "      <td>0.0</td>\n",
       "      <td>0.0</td>\n",
       "      <td>0.0</td>\n",
       "      <td>0.0</td>\n",
       "      <td>1</td>\n",
       "      <td>0.693147</td>\n",
       "      <td>1</td>\n",
       "      <td>1</td>\n",
       "    </tr>\n",
       "    <tr>\n",
       "      <th>4</th>\n",
       "      <td>3</td>\n",
       "      <td>0.693147</td>\n",
       "      <td>42</td>\n",
       "      <td>0.000000</td>\n",
       "      <td>2.079442</td>\n",
       "      <td>0.000000</td>\n",
       "      <td>0.0</td>\n",
       "      <td>0.0</td>\n",
       "      <td>0.0</td>\n",
       "      <td>0.0</td>\n",
       "      <td>0</td>\n",
       "      <td>0.693147</td>\n",
       "      <td>0</td>\n",
       "      <td>0</td>\n",
       "    </tr>\n",
       "  </tbody>\n",
       "</table>\n",
       "</div>"
      ],
      "text/plain": [
       "   age  time_in_hospital  n_lab_procedures  n_procedures  n_medications  \\\n",
       "0    4          2.197225                72      0.693147       2.944439   \n",
       "1    4          1.386294                34      1.098612       2.639057   \n",
       "2    2          1.791759                45      0.000000       2.944439   \n",
       "3    4          1.098612                36      0.000000       2.564949   \n",
       "4    3          0.693147                42      0.000000       2.079442   \n",
       "\n",
       "   n_outpatient  n_inpatient  n_emergency  glucose_test  A1Ctest  change  \\\n",
       "0      1.098612          0.0          0.0           0.0      0.0       0   \n",
       "1      0.000000          0.0          0.0           0.0      0.0       0   \n",
       "2      0.000000          0.0          0.0           0.0      0.0       1   \n",
       "3      0.693147          0.0          0.0           0.0      0.0       1   \n",
       "4      0.000000          0.0          0.0           0.0      0.0       0   \n",
       "\n",
       "   diabetes_med  Diabetes_ind  readmitted  \n",
       "0      0.693147             0           0  \n",
       "1      0.693147             0           0  \n",
       "2      0.693147             0           1  \n",
       "3      0.693147             1           1  \n",
       "4      0.693147             0           0  "
      ]
     },
     "execution_count": 233,
     "metadata": {},
     "output_type": "execute_result"
    }
   ],
   "source": [
    "df_imp.head()"
   ]
  },
  {
   "cell_type": "code",
   "execution_count": 234,
   "id": "7a0d950d",
   "metadata": {},
   "outputs": [],
   "source": [
    "df_imp=df_imp[['n_inpatient','n_lab_procedures','n_medications','time_in_hospital','n_outpatient','readmitted']]"
   ]
  },
  {
   "cell_type": "code",
   "execution_count": 236,
   "id": "fb1ae51f",
   "metadata": {},
   "outputs": [
    {
     "data": {
      "text/html": [
       "<div>\n",
       "<style scoped>\n",
       "    .dataframe tbody tr th:only-of-type {\n",
       "        vertical-align: middle;\n",
       "    }\n",
       "\n",
       "    .dataframe tbody tr th {\n",
       "        vertical-align: top;\n",
       "    }\n",
       "\n",
       "    .dataframe thead th {\n",
       "        text-align: right;\n",
       "    }\n",
       "</style>\n",
       "<table border=\"1\" class=\"dataframe\">\n",
       "  <thead>\n",
       "    <tr style=\"text-align: right;\">\n",
       "      <th></th>\n",
       "      <th>n_inpatient</th>\n",
       "      <th>n_lab_procedures</th>\n",
       "      <th>n_medications</th>\n",
       "      <th>time_in_hospital</th>\n",
       "      <th>n_outpatient</th>\n",
       "      <th>readmitted</th>\n",
       "    </tr>\n",
       "  </thead>\n",
       "  <tbody>\n",
       "    <tr>\n",
       "      <th>0</th>\n",
       "      <td>0.0</td>\n",
       "      <td>72</td>\n",
       "      <td>2.944439</td>\n",
       "      <td>2.197225</td>\n",
       "      <td>1.098612</td>\n",
       "      <td>0</td>\n",
       "    </tr>\n",
       "    <tr>\n",
       "      <th>1</th>\n",
       "      <td>0.0</td>\n",
       "      <td>34</td>\n",
       "      <td>2.639057</td>\n",
       "      <td>1.386294</td>\n",
       "      <td>0.000000</td>\n",
       "      <td>0</td>\n",
       "    </tr>\n",
       "    <tr>\n",
       "      <th>2</th>\n",
       "      <td>0.0</td>\n",
       "      <td>45</td>\n",
       "      <td>2.944439</td>\n",
       "      <td>1.791759</td>\n",
       "      <td>0.000000</td>\n",
       "      <td>1</td>\n",
       "    </tr>\n",
       "    <tr>\n",
       "      <th>3</th>\n",
       "      <td>0.0</td>\n",
       "      <td>36</td>\n",
       "      <td>2.564949</td>\n",
       "      <td>1.098612</td>\n",
       "      <td>0.693147</td>\n",
       "      <td>1</td>\n",
       "    </tr>\n",
       "    <tr>\n",
       "      <th>4</th>\n",
       "      <td>0.0</td>\n",
       "      <td>42</td>\n",
       "      <td>2.079442</td>\n",
       "      <td>0.693147</td>\n",
       "      <td>0.000000</td>\n",
       "      <td>0</td>\n",
       "    </tr>\n",
       "  </tbody>\n",
       "</table>\n",
       "</div>"
      ],
      "text/plain": [
       "   n_inpatient  n_lab_procedures  n_medications  time_in_hospital  \\\n",
       "0          0.0                72       2.944439          2.197225   \n",
       "1          0.0                34       2.639057          1.386294   \n",
       "2          0.0                45       2.944439          1.791759   \n",
       "3          0.0                36       2.564949          1.098612   \n",
       "4          0.0                42       2.079442          0.693147   \n",
       "\n",
       "   n_outpatient  readmitted  \n",
       "0      1.098612           0  \n",
       "1      0.000000           0  \n",
       "2      0.000000           1  \n",
       "3      0.693147           1  \n",
       "4      0.000000           0  "
      ]
     },
     "execution_count": 236,
     "metadata": {},
     "output_type": "execute_result"
    }
   ],
   "source": [
    "df_imp.head()"
   ]
  },
  {
   "cell_type": "code",
   "execution_count": 237,
   "id": "9145a294",
   "metadata": {},
   "outputs": [],
   "source": [
    "X=df_imp.drop('readmitted',axis=1)\n",
    "y=df_imp['readmitted']"
   ]
  },
  {
   "cell_type": "code",
   "execution_count": 238,
   "id": "6ced448b",
   "metadata": {},
   "outputs": [],
   "source": [
    "X_train, X_test, y_train, y_test = train_test_split(X, y, test_size=0.33, random_state=42)"
   ]
  },
  {
   "cell_type": "code",
   "execution_count": 239,
   "id": "6632e5dd",
   "metadata": {},
   "outputs": [],
   "source": [
    "X_train=scaler.fit_transform(X_train)\n",
    "X_test=scaler.transform(X_test)"
   ]
  },
  {
   "cell_type": "code",
   "execution_count": 240,
   "id": "04851ab2",
   "metadata": {},
   "outputs": [],
   "source": [
    "from sklearn.ensemble import RandomForestClassifier\n",
    "# Define parameters: these will need to be tuned to prevent overfitting and underfitting\n",
    "params = {\n",
    "    \"n_estimators\": 97,  # Number of trees in the forest\n",
    "    \"max_depth\": 10,  # Max depth of the tree\n",
    "    \"min_samples_split\": 3,  # Min number of samples required to split a node\n",
    "    \"min_samples_leaf\": 1,  # Min number of samples required at a leaf node\n",
    "    \"ccp_alpha\": 0,  # Cost complexity parameter for pruning\n",
    "    \"random_state\": 123,\n",
    "}\n",
    "#{'n_estimators': 97, 'min_samples_split': 3, 'min_samples_leaf': 1, 'max_depth': 10, 'ccp_alpha': 0}\n",
    "\n",
    "# Create a RandomForestRegressor object with the parameters above\n",
    "rf = RandomForestClassifier(**params)\n",
    "\n",
    "# Train the random forest on the train set\n",
    "rf = rf.fit(X_train, y_train)\n",
    "\n",
    "# Predict the outcomes on the test set\n",
    "y_pred = rf.predict(X_test)"
   ]
  },
  {
   "cell_type": "code",
   "execution_count": 241,
   "id": "33582bfd",
   "metadata": {
    "scrolled": true
   },
   "outputs": [
    {
     "name": "stdout",
     "output_type": "stream",
     "text": [
      "Training Set: 0.6623283582089552\n",
      "Test Set: 0.6104242424242424\n",
      "Accuracy: 61.04%\n"
     ]
    }
   ],
   "source": [
    "y_pred = rf.predict(X_test)\n",
    "print('Training Set:', rf.score(X_train,y_train))\n",
    "print('Test Set:', rf.score(X_test,y_test))\n",
    "\n",
    "# Calculate the accuracy, precision, and recall scores\n",
    "print(\"Accuracy:\", \"{:.2f}%\".format(accuracy_score(y_test, y_pred)*100))"
   ]
  },
  {
   "cell_type": "code",
   "execution_count": 243,
   "id": "9a6ee160",
   "metadata": {},
   "outputs": [],
   "source": [
    "import pickle\n",
    "filename = 'final_model.pkl'\n",
    "pickle.dump(rf, open(filename, 'wb'))"
   ]
  }
 ],
 "metadata": {
  "kernelspec": {
   "display_name": "Python 3 (ipykernel)",
   "language": "python",
   "name": "python3"
  },
  "language_info": {
   "codemirror_mode": {
    "name": "ipython",
    "version": 3
   },
   "file_extension": ".py",
   "mimetype": "text/x-python",
   "name": "python",
   "nbconvert_exporter": "python",
   "pygments_lexer": "ipython3",
   "version": "3.9.12"
  }
 },
 "nbformat": 4,
 "nbformat_minor": 5
}
